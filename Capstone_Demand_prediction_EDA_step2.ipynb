{
 "cells": [
  {
   "cell_type": "markdown",
   "metadata": {
    "colab_type": "text",
    "id": "cf5CmXQCZyF1"
   },
   "source": [
    "# Capstone Step 3 Exploratory Data Analysis"
   ]
  },
  {
   "cell_type": "markdown",
   "metadata": {
    "colab_type": "text",
    "id": "6coRtYMknP8g"
   },
   "source": [
    "This is the third step in the Data Science Method. We introduced this topic in the last subunit. With Data Wrangling out of the way we can progress to the Exploratory Data Analysis section. In this exercise, you will learn to build data profiles and plots, including relationship plot and data correlation plot. You will also implement k-means clustering, complete clusters, and update data frame as a CSV file. Let's get started! \n",
    "  \n",
    "**The Data Science Method**  \n",
    "\n",
    "\n",
    "1.   Problem Identification \n",
    "\n",
    "2.   Data Wrangling \n",
    "  * Data Collection \n",
    "   * Data Organization\n",
    "  * Data Definition \n",
    "  * Data Cleaning\n",
    " \n",
    "3.   **Exploratory Data Analysis** \n",
    " * Build data profile tables and plots\n",
    "        - Outliers & Anomalies\n",
    " * Explore data relationships\n",
    " * Identification and creation of features\n",
    "\n",
    "4.   Pre-processing and Training Data Development\n",
    "  * Create dummy or indicator features for categorical variables\n",
    "  * Standardize the magnitude of numeric features\n",
    "  * Split into testing and training datasets\n",
    "  * Apply scaler to the testing set\n",
    "5.   Modeling \n",
    "  * Fit Models with Training Data Set\n",
    "  * Review Model Outcomes — Iterate over additional models as needed.\n",
    "  * Identify the Final Model\n",
    "\n",
    "6.   Documentation\n",
    "  * Review the Results\n",
    "  * Present and share your findings - storytelling\n",
    "  * Finalize Code \n",
    "  * Finalize Documentation"
   ]
  },
  {
   "cell_type": "markdown",
   "metadata": {
    "colab_type": "text",
    "id": "KGpKRX884-Vz"
   },
   "source": [
    "**<font color='teal'> Start by loading the necessary packages as we did in step 2 and printing out our current working directory just to confirm we are in the correct project directory. </font>**"
   ]
  },
  {
   "cell_type": "code",
   "execution_count": 1,
   "metadata": {
    "colab": {},
    "colab_type": "code",
    "id": "ND33_51f4-V0"
   },
   "outputs": [],
   "source": [
    "#The focus are in this notebook is graphs and charts. Will talk about data visualisation and insights\n",
    "#load python packages\n",
    "import os\n",
    "import pandas as pd\n",
    "import datetime\n",
    "import seaborn as sns\n",
    "import matplotlib.pyplot as plt\n",
    "import numpy as np\n",
    "%matplotlib inline\n"
   ]
  },
  {
   "cell_type": "markdown",
   "metadata": {},
   "source": [
    "Upload the clean data obtained from step 1"
   ]
  },
  {
   "cell_type": "code",
   "execution_count": 2,
   "metadata": {},
   "outputs": [
    {
     "data": {
      "text/html": [
       "<div>\n",
       "<style scoped>\n",
       "    .dataframe tbody tr th:only-of-type {\n",
       "        vertical-align: middle;\n",
       "    }\n",
       "\n",
       "    .dataframe tbody tr th {\n",
       "        vertical-align: top;\n",
       "    }\n",
       "\n",
       "    .dataframe thead th {\n",
       "        text-align: right;\n",
       "    }\n",
       "</style>\n",
       "<table border=\"1\" class=\"dataframe\">\n",
       "  <thead>\n",
       "    <tr style=\"text-align: right;\">\n",
       "      <th></th>\n",
       "      <th>date</th>\n",
       "      <th>city</th>\n",
       "      <th>lat</th>\n",
       "      <th>long</th>\n",
       "      <th>pop</th>\n",
       "      <th>shop</th>\n",
       "      <th>brand</th>\n",
       "      <th>container</th>\n",
       "      <th>capacity</th>\n",
       "      <th>price</th>\n",
       "      <th>quantity</th>\n",
       "      <th>capacity_in_ml</th>\n",
       "    </tr>\n",
       "    <tr>\n",
       "      <th>id</th>\n",
       "      <th></th>\n",
       "      <th></th>\n",
       "      <th></th>\n",
       "      <th></th>\n",
       "      <th></th>\n",
       "      <th></th>\n",
       "      <th></th>\n",
       "      <th></th>\n",
       "      <th></th>\n",
       "      <th></th>\n",
       "      <th></th>\n",
       "      <th></th>\n",
       "    </tr>\n",
       "  </thead>\n",
       "  <tbody>\n",
       "    <tr>\n",
       "      <th>0.0</th>\n",
       "      <td>2012-01-31</td>\n",
       "      <td>Athens</td>\n",
       "      <td>37.97945</td>\n",
       "      <td>23.71622</td>\n",
       "      <td>672130.0</td>\n",
       "      <td>shop_1</td>\n",
       "      <td>kinder-cola</td>\n",
       "      <td>glass</td>\n",
       "      <td>500ml</td>\n",
       "      <td>0.96</td>\n",
       "      <td>13280.0</td>\n",
       "      <td>500.0</td>\n",
       "    </tr>\n",
       "    <tr>\n",
       "      <th>1.0</th>\n",
       "      <td>2012-01-31</td>\n",
       "      <td>Athens</td>\n",
       "      <td>37.97945</td>\n",
       "      <td>23.71622</td>\n",
       "      <td>672130.0</td>\n",
       "      <td>shop_1</td>\n",
       "      <td>kinder-cola</td>\n",
       "      <td>plastic</td>\n",
       "      <td>1.5lt</td>\n",
       "      <td>2.86</td>\n",
       "      <td>6727.0</td>\n",
       "      <td>1500.0</td>\n",
       "    </tr>\n",
       "    <tr>\n",
       "      <th>2.0</th>\n",
       "      <td>2012-01-31</td>\n",
       "      <td>Athens</td>\n",
       "      <td>37.97945</td>\n",
       "      <td>23.71622</td>\n",
       "      <td>672130.0</td>\n",
       "      <td>shop_1</td>\n",
       "      <td>kinder-cola</td>\n",
       "      <td>can</td>\n",
       "      <td>330ml</td>\n",
       "      <td>0.87</td>\n",
       "      <td>9848.0</td>\n",
       "      <td>330.0</td>\n",
       "    </tr>\n",
       "    <tr>\n",
       "      <th>3.0</th>\n",
       "      <td>2012-01-31</td>\n",
       "      <td>Athens</td>\n",
       "      <td>37.97945</td>\n",
       "      <td>23.71622</td>\n",
       "      <td>672130.0</td>\n",
       "      <td>shop_1</td>\n",
       "      <td>adult-cola</td>\n",
       "      <td>glass</td>\n",
       "      <td>500ml</td>\n",
       "      <td>1.00</td>\n",
       "      <td>20050.0</td>\n",
       "      <td>500.0</td>\n",
       "    </tr>\n",
       "    <tr>\n",
       "      <th>4.0</th>\n",
       "      <td>2012-01-31</td>\n",
       "      <td>Athens</td>\n",
       "      <td>37.97945</td>\n",
       "      <td>23.71622</td>\n",
       "      <td>672130.0</td>\n",
       "      <td>shop_1</td>\n",
       "      <td>adult-cola</td>\n",
       "      <td>can</td>\n",
       "      <td>330ml</td>\n",
       "      <td>0.39</td>\n",
       "      <td>25696.0</td>\n",
       "      <td>330.0</td>\n",
       "    </tr>\n",
       "  </tbody>\n",
       "</table>\n",
       "</div>"
      ],
      "text/plain": [
       "          date    city       lat      long       pop    shop        brand  \\\n",
       "id                                                                          \n",
       "0.0 2012-01-31  Athens  37.97945  23.71622  672130.0  shop_1  kinder-cola   \n",
       "1.0 2012-01-31  Athens  37.97945  23.71622  672130.0  shop_1  kinder-cola   \n",
       "2.0 2012-01-31  Athens  37.97945  23.71622  672130.0  shop_1  kinder-cola   \n",
       "3.0 2012-01-31  Athens  37.97945  23.71622  672130.0  shop_1   adult-cola   \n",
       "4.0 2012-01-31  Athens  37.97945  23.71622  672130.0  shop_1   adult-cola   \n",
       "\n",
       "    container capacity  price  quantity  capacity_in_ml  \n",
       "id                                                       \n",
       "0.0     glass    500ml   0.96   13280.0           500.0  \n",
       "1.0   plastic    1.5lt   2.86    6727.0          1500.0  \n",
       "2.0       can    330ml   0.87    9848.0           330.0  \n",
       "3.0     glass    500ml   1.00   20050.0           500.0  \n",
       "4.0       can    330ml   0.39   25696.0           330.0  "
      ]
     },
     "execution_count": 2,
     "metadata": {},
     "output_type": "execute_result"
    }
   ],
   "source": [
    "file='Sales_data_cleaned.csv'\n",
    "df = pd.read_csv(file , parse_dates = ['date'] , index_col = 'id')\n",
    "df.head()"
   ]
  },
  {
   "cell_type": "code",
   "execution_count": 3,
   "metadata": {},
   "outputs": [],
   "source": [
    "# adding new feature per capita consumption\n",
    "df['Per_capita_comsumption'] = df['quantity']/df['pop']"
   ]
  },
  {
   "cell_type": "markdown",
   "metadata": {
    "colab_type": "text",
    "id": "lZDJfp-RlDZX"
   },
   "source": [
    "# Build data profile tables and plots "
   ]
  },
  {
   "cell_type": "markdown",
   "metadata": {
    "colab_type": "text",
    "id": "zkBHf9smZyGB"
   },
   "source": [
    "**<font color='teal'> Print out the summary stats table transposed to fit on the screen using the `describe()` function.</font>**"
   ]
  },
  {
   "cell_type": "markdown",
   "metadata": {
    "colab_type": "text",
    "id": "qbsc0sfW4-WI"
   },
   "source": [
    "**<font color='teal'> Histograms are an excellent way to review the range and density of values for each numeric features in your data set and build data profiles. Plot the histograms for all numeric features and adjust the bins size to 25.</font>**"
   ]
  },
  {
   "cell_type": "code",
   "execution_count": 4,
   "metadata": {
    "colab": {},
    "colab_type": "code",
    "id": "PX_gPWmAZyHW"
   },
   "outputs": [
    {
     "data": {
      "image/png": "[encoded data removed]",
      "text/plain": [
       "<Figure size 1800x1800 with 9 Axes>"
      ]
     },
     "metadata": {
      "needs_background": "light"
     },
     "output_type": "display_data"
    }
   ],
   "source": [
    "#What is Histogram and why to use this chart. \n",
    "#What kind of data is good to be displayed in Histogram\n",
    "\n",
    "hist = df.hist(bins=25,figsize =(25,25))"
   ]
  },
  {
   "cell_type": "markdown",
   "metadata": {
    "colab_type": "text",
    "id": "_IEI0Kzj4-WN"
   },
   "source": [
    "Look for similarities in the features that may indicate that they are duplicates or highly correlated features. Make a note of your findings and any other interesting insights you find about these numeric features."
   ]
  },
  {
   "cell_type": "markdown",
   "metadata": {
    "colab_type": "text",
    "id": "cL107nfB4-WO"
   },
   "source": [
    "**<font color='teal'> Okay, now you should be getting a sense for what the data look like. Let's create a barplot for the categorical features `city`.</font>**"
   ]
  },
  {
   "cell_type": "markdown",
   "metadata": {
    "colab_type": "text",
    "id": "UYHlF-jM4-WP"
   },
   "source": [
    "**<font color='teal'>State Levels Plot</font>**"
   ]
  },
  {
   "cell_type": "code",
   "execution_count": 5,
   "metadata": {},
   "outputs": [
    {
     "name": "stdout",
     "output_type": "stream",
     "text": [
      "              city\n",
      "Athens        2160\n",
      "Larisa        1080\n",
      "Irakleion     1080\n",
      "Thessaloniki  1080\n",
      "Patra         1080\n"
     ]
    },
    {
     "data": {
      "text/plain": [
       "<matplotlib.axes._subplots.AxesSubplot at 0x7fb802469ed0>"
      ]
     },
     "execution_count": 5,
     "metadata": {},
     "output_type": "execute_result"
    },
    {
     "data": {
      "image/png": "[encoded data removed]",
      "text/plain": [
       "<Figure size 720x720 with 1 Axes>"
      ]
     },
     "metadata": {
      "needs_background": "light"
     },
     "output_type": "display_data"
    }
   ],
   "source": [
    "#Build frequency chart for histogram\n",
    "\n",
    "f, ax = plt.subplots(figsize=(10, 10))\n",
    "x = pd.DataFrame(df.city.value_counts()) #Gives the frequency value at state level\n",
    "print(x)\n",
    "names = list(x.index)\n",
    "values = list(x.city)\n",
    "sns.barplot(x=values, y=names, palette=\"RdBu_r\")"
   ]
  },
  {
   "cell_type": "code",
   "execution_count": 6,
   "metadata": {},
   "outputs": [
    {
     "name": "stdout",
     "output_type": "stream",
     "text": [
      "         container\n",
      "glass         2170\n",
      "plastic       2157\n",
      "can           2153\n"
     ]
    },
    {
     "data": {
      "text/plain": [
       "<matplotlib.axes._subplots.AxesSubplot at 0x7fb8029d96d0>"
      ]
     },
     "execution_count": 6,
     "metadata": {},
     "output_type": "execute_result"
    },
    {
     "data": {
      "image/png": "[encoded data removed]",
      "text/plain": [
       "<Figure size 720x360 with 1 Axes>"
      ]
     },
     "metadata": {
      "needs_background": "light"
     },
     "output_type": "display_data"
    }
   ],
   "source": [
    "#Build frequency chart for histogram\n",
    "\n",
    "f, ax = plt.subplots(figsize=(10, 5))\n",
    "x = pd.DataFrame(df.container.value_counts())\n",
    "print(x)\n",
    "names = list(x.index)\n",
    "values = list(x.container)\n",
    "sns.barplot(x=values, y=names, palette=\"RdBu_r\")"
   ]
  },
  {
   "cell_type": "code",
   "execution_count": 7,
   "metadata": {},
   "outputs": [
    {
     "name": "stdout",
     "output_type": "stream",
     "text": [
      "       capacity\n",
      "500ml      2170\n",
      "1.5lt      2157\n",
      "330ml      2153\n"
     ]
    },
    {
     "data": {
      "text/plain": [
       "<matplotlib.axes._subplots.AxesSubplot at 0x7fb802d868d0>"
      ]
     },
     "execution_count": 7,
     "metadata": {},
     "output_type": "execute_result"
    },
    {
     "data": {
      "image/png": "[encoded data removed]",
      "text/plain": [
       "<Figure size 720x360 with 1 Axes>"
      ]
     },
     "metadata": {
      "needs_background": "light"
     },
     "output_type": "display_data"
    }
   ],
   "source": [
    "#Build frequency chart for histogram\n",
    "\n",
    "f, ax = plt.subplots(figsize=(10, 5))\n",
    "x = pd.DataFrame(df.capacity.value_counts())\n",
    "print(x)\n",
    "names = list(x.index)\n",
    "values = list(x.capacity)\n",
    "sns.barplot(x=values, y=names, palette=\"RdBu_r\")"
   ]
  },
  {
   "cell_type": "markdown",
   "metadata": {
    "colab_type": "text",
    "id": "f2Qx9U_94-WV"
   },
   "source": [
    "**<font color='teal'>Region Levels Plot</font>**"
   ]
  },
  {
   "cell_type": "markdown",
   "metadata": {
    "colab_type": "text",
    "id": "FuztX1lb4-Wa"
   },
   "source": [
    "By reviewing the capacity and container counts plots you should notice that the Region feature is nearly identical to the state and therfore we can remove from the dataframe.**<font color='teal'> Remove the `C` column using the drop function.</font>**"
   ]
  },
  {
   "cell_type": "code",
   "execution_count": 8,
   "metadata": {
    "colab": {},
    "colab_type": "code",
    "id": "XRsTmTSX4-Wc"
   },
   "outputs": [
    {
     "data": {
      "text/plain": [
       "Index(['date', 'city', 'lat', 'long', 'pop', 'shop', 'brand', 'capacity',\n",
       "       'price', 'quantity', 'capacity_in_ml', 'Per_capita_comsumption'],\n",
       "      dtype='object')"
      ]
     },
     "execution_count": 8,
     "metadata": {},
     "output_type": "execute_result"
    }
   ],
   "source": [
    "#Here axis tell that if we are going to drop values from rows or columns. 0 signify rows and 1 signify column\n",
    "df_1 = df.drop('container', axis = 1)\n",
    "df_1.columns"
   ]
  },
  {
   "cell_type": "markdown",
   "metadata": {
    "colab_type": "text",
    "id": "HnDVhE1-ZyGF"
   },
   "source": [
    "## Anamolies & Outliers - Review boxplots"
   ]
  },
  {
   "cell_type": "markdown",
   "metadata": {
    "colab_type": "text",
    "id": "tVbFWUNb4-Wf"
   },
   "source": [
    "**<font color='teal'> Print boxplot for every column</font>**\n",
    "\n",
    "Hint: you'll see the methodology here in this article on Exploratory Data Analysis [here](nce-method-dsm-exploratory-data-analysis-bc84d4d8d3f9). "
   ]
  },
  {
   "cell_type": "code",
   "execution_count": 9,
   "metadata": {
    "colab": {},
    "colab_type": "code",
    "id": "gW3D-WlDZyGG"
   },
   "outputs": [
    {
     "data": {
      "image/png": "[encoded data removed]",
      "text/plain": [
       "<Figure size 1080x1080 with 1 Axes>"
      ]
     },
     "metadata": {
      "needs_background": "light"
     },
     "output_type": "display_data"
    }
   ],
   "source": [
    "#Importance of Box Plot\n",
    "#Difference between Outliers and Expected outliers\n",
    "#Boxplot for one column\n",
    "#Boxplot for more than one column\n",
    "boxplot = df[[\"price\", 'quantity', 'capacity_in_ml' ]].boxplot(grid=False, vert=True,fontsize=15, figsize=(15,15))\n",
    "boxplot1 = df[[\"price\", 'quantity', 'capacity_in_ml' ]].boxplot()"
   ]
  },
  {
   "cell_type": "markdown",
   "metadata": {
    "colab_type": "text",
    "id": "blzjJLn54-Wl"
   },
   "source": [
    "You need to create boxplots and  histograms to evaluate the data for potential outliers or data anomalies. Generally, outliers are defined as observations that differ significantly from the other values in the dataset or feature. \n",
    "\n",
    "Reviewing the distribution of values by column will help you  interpret this. Outliers are extreme values that fall far outside the mean and standard deviation of a set of observations. They  can mislead the training process in building machine learning models. Outliers may be real anomalies in the observations or artificial errors. \n",
    "\n",
    "One method for outlier analysis is extreme value analysis using a boxplot, which assumes a normal distribution. The figure below describes the components of a boxplot. Notice the outlier is the point outside the upper whisker end. \n",
    "\n",
    "![](AnnotatedBoxplot.png)  \n",
    "<font color='teal'>Follow these steps:  \n",
    "\n",
    "1. Create boxplots - earlier step\n",
    "2. Apply outlier removal using the Interquartile range or replacement \n",
    "3. Review how many observations were removed</font>\n",
    "\n",
    "Hint: Recall from your statistics prework that a common definition of an outlier is an observation lying more than (1.5 * the Interquartile range) above the third quartile, or more than just that much below the first quartile."
   ]
  },
  {
   "cell_type": "code",
   "execution_count": 10,
   "metadata": {},
   "outputs": [],
   "source": [
    "df_se = df.select_dtypes(include=['int' , 'float'])"
   ]
  },
  {
   "cell_type": "code",
   "execution_count": 11,
   "metadata": {},
   "outputs": [],
   "source": [
    "\n",
    "# Let's get the Interquartile range, or IQR. This is equal to Q3 - Q1. \n",
    "# First, let's use the quantile() method to get the first quartile, and store it in a variable called Q1.\n",
    "# We'll want to plug 0.25 into the quantile method. \n",
    "Q1 = df_se.quantile(0.25)\n",
    "\n",
    "# Now get Q3 and store in a variable called Q3. \n",
    "Q3 = df_se.quantile(0.75)\n",
    "\n",
    "# Now calculate the IQR, storing it in a variable called IQR.\n",
    "IQR = Q3 - Q1\n",
    "\n",
    "# Make a variable called `dfno`, and assign it the value: df[~((df < (Q1 - 1.5 * IQR)) |(df> (Q3 + 1.5 * IQR))).any(axis=1)]. \n",
    "# This filters on our existing dataframe, picking out just those observations that are NOT outliers. \n",
    "#dfno = df[~((df < (Q1 - 1.5 * IQR)) |(df> (Q3 + 1.5 * IQR))).any(axis=1)]\n",
    "\n",
    "# We now want to make a boxplot of this new dataframe dfno. \n",
    "#dfno.loc[:, dfno.dtypes == np.float64].boxplot(grid=False, vert=False,fontsize=15, figsize=(12,15))"
   ]
  },
  {
   "cell_type": "code",
   "execution_count": 12,
   "metadata": {},
   "outputs": [
    {
     "data": {
      "text/plain": [
       "lat                           37.979450\n",
       "long                          22.417610\n",
       "pop                       141439.750000\n",
       "price                          0.610000\n",
       "quantity                   16441.750000\n",
       "capacity_in_ml               330.000000\n",
       "Per_capita_comsumption         0.040413\n",
       "Name: 0.25, dtype: float64"
      ]
     },
     "execution_count": 12,
     "metadata": {},
     "output_type": "execute_result"
    }
   ],
   "source": [
    "Q1"
   ]
  },
  {
   "cell_type": "code",
   "execution_count": 13,
   "metadata": {},
   "outputs": [
    {
     "data": {
      "text/plain": [
       "lat                           39.636890\n",
       "long                          23.716220\n",
       "pop                       665871.000000\n",
       "price                          1.500000\n",
       "quantity                   37866.000000\n",
       "capacity_in_ml              1500.000000\n",
       "Per_capita_comsumption         0.193039\n",
       "Name: 0.75, dtype: float64"
      ]
     },
     "execution_count": 13,
     "metadata": {},
     "output_type": "execute_result"
    }
   ],
   "source": [
    "Q3"
   ]
  },
  {
   "cell_type": "code",
   "execution_count": 14,
   "metadata": {},
   "outputs": [
    {
     "data": {
      "text/html": [
       "<div>\n",
       "<style scoped>\n",
       "    .dataframe tbody tr th:only-of-type {\n",
       "        vertical-align: middle;\n",
       "    }\n",
       "\n",
       "    .dataframe tbody tr th {\n",
       "        vertical-align: top;\n",
       "    }\n",
       "\n",
       "    .dataframe thead th {\n",
       "        text-align: right;\n",
       "    }\n",
       "</style>\n",
       "<table border=\"1\" class=\"dataframe\">\n",
       "  <thead>\n",
       "    <tr style=\"text-align: right;\">\n",
       "      <th></th>\n",
       "      <th>city</th>\n",
       "      <th>shop</th>\n",
       "      <th>brand</th>\n",
       "      <th>container</th>\n",
       "      <th>capacity</th>\n",
       "    </tr>\n",
       "    <tr>\n",
       "      <th>id</th>\n",
       "      <th></th>\n",
       "      <th></th>\n",
       "      <th></th>\n",
       "      <th></th>\n",
       "      <th></th>\n",
       "    </tr>\n",
       "  </thead>\n",
       "  <tbody>\n",
       "    <tr>\n",
       "      <th>0.0</th>\n",
       "      <td>Athens</td>\n",
       "      <td>shop_1</td>\n",
       "      <td>kinder-cola</td>\n",
       "      <td>glass</td>\n",
       "      <td>500ml</td>\n",
       "    </tr>\n",
       "    <tr>\n",
       "      <th>1.0</th>\n",
       "      <td>Athens</td>\n",
       "      <td>shop_1</td>\n",
       "      <td>kinder-cola</td>\n",
       "      <td>plastic</td>\n",
       "      <td>1.5lt</td>\n",
       "    </tr>\n",
       "    <tr>\n",
       "      <th>2.0</th>\n",
       "      <td>Athens</td>\n",
       "      <td>shop_1</td>\n",
       "      <td>kinder-cola</td>\n",
       "      <td>can</td>\n",
       "      <td>330ml</td>\n",
       "    </tr>\n",
       "    <tr>\n",
       "      <th>3.0</th>\n",
       "      <td>Athens</td>\n",
       "      <td>shop_1</td>\n",
       "      <td>adult-cola</td>\n",
       "      <td>glass</td>\n",
       "      <td>500ml</td>\n",
       "    </tr>\n",
       "    <tr>\n",
       "      <th>4.0</th>\n",
       "      <td>Athens</td>\n",
       "      <td>shop_1</td>\n",
       "      <td>adult-cola</td>\n",
       "      <td>can</td>\n",
       "      <td>330ml</td>\n",
       "    </tr>\n",
       "    <tr>\n",
       "      <th>...</th>\n",
       "      <td>...</td>\n",
       "      <td>...</td>\n",
       "      <td>...</td>\n",
       "      <td>...</td>\n",
       "      <td>...</td>\n",
       "    </tr>\n",
       "    <tr>\n",
       "      <th>6475.0</th>\n",
       "      <td>Athens</td>\n",
       "      <td>shop_3</td>\n",
       "      <td>orange-power</td>\n",
       "      <td>plastic</td>\n",
       "      <td>1.5lt</td>\n",
       "    </tr>\n",
       "    <tr>\n",
       "      <th>6476.0</th>\n",
       "      <td>Larisa</td>\n",
       "      <td>shop_5</td>\n",
       "      <td>orange-power</td>\n",
       "      <td>can</td>\n",
       "      <td>330ml</td>\n",
       "    </tr>\n",
       "    <tr>\n",
       "      <th>6477.0</th>\n",
       "      <td>Patra</td>\n",
       "      <td>shop_6</td>\n",
       "      <td>adult-cola</td>\n",
       "      <td>glass</td>\n",
       "      <td>500ml</td>\n",
       "    </tr>\n",
       "    <tr>\n",
       "      <th>6478.0</th>\n",
       "      <td>Thessaloniki</td>\n",
       "      <td>shop_4</td>\n",
       "      <td>gazoza</td>\n",
       "      <td>plastic</td>\n",
       "      <td>1.5lt</td>\n",
       "    </tr>\n",
       "    <tr>\n",
       "      <th>6479.0</th>\n",
       "      <td>Thessaloniki</td>\n",
       "      <td>shop_4</td>\n",
       "      <td>adult-cola</td>\n",
       "      <td>glass</td>\n",
       "      <td>500ml</td>\n",
       "    </tr>\n",
       "  </tbody>\n",
       "</table>\n",
       "<p>6480 rows × 5 columns</p>\n",
       "</div>"
      ],
      "text/plain": [
       "                city    shop         brand container capacity\n",
       "id                                                           \n",
       "0.0           Athens  shop_1   kinder-cola     glass    500ml\n",
       "1.0           Athens  shop_1   kinder-cola   plastic    1.5lt\n",
       "2.0           Athens  shop_1   kinder-cola       can    330ml\n",
       "3.0           Athens  shop_1    adult-cola     glass    500ml\n",
       "4.0           Athens  shop_1    adult-cola       can    330ml\n",
       "...              ...     ...           ...       ...      ...\n",
       "6475.0        Athens  shop_3  orange-power   plastic    1.5lt\n",
       "6476.0        Larisa  shop_5  orange-power       can    330ml\n",
       "6477.0         Patra  shop_6    adult-cola     glass    500ml\n",
       "6478.0  Thessaloniki  shop_4        gazoza   plastic    1.5lt\n",
       "6479.0  Thessaloniki  shop_4    adult-cola     glass    500ml\n",
       "\n",
       "[6480 rows x 5 columns]"
      ]
     },
     "execution_count": 14,
     "metadata": {},
     "output_type": "execute_result"
    }
   ],
   "source": [
    "\n",
    "#to check columns having string data\n",
    "df.select_dtypes(include=[object])"
   ]
  },
  {
   "cell_type": "code",
   "execution_count": 15,
   "metadata": {},
   "outputs": [],
   "source": [
    "#We wont able to draw boxplot for string columns\n"
   ]
  },
  {
   "cell_type": "code",
   "execution_count": 16,
   "metadata": {
    "colab": {},
    "colab_type": "code",
    "id": "EW-fSw0l4-Ws"
   },
   "outputs": [],
   "source": [
    "# Print the shapes of our dataframes df and dfno to compare the number of observations in each. "
   ]
  },
  {
   "cell_type": "markdown",
   "metadata": {
    "colab_type": "text",
    "id": "idsd9zX44-XG"
   },
   "source": [
    "# Identification and creation of features"
   ]
  },
  {
   "cell_type": "markdown",
   "metadata": {
    "colab_type": "text",
    "id": "DOi-cwQx4-XH"
   },
   "source": [
    "<font color='teal'>**Create a Pearson correlation heatmap**</font>"
   ]
  },
  {
   "cell_type": "code",
   "execution_count": 17,
   "metadata": {
    "colab": {},
    "colab_type": "code",
    "id": "ehAKkcQz4-XI"
   },
   "outputs": [
    {
     "data": {
      "text/html": [
       "<style  type=\"text/css\" >\n",
       "    #T_3793dc24_2446_11eb_8af6_38c9862f77eerow0_col0 {\n",
       "            background-color:  #b40426;\n",
       "            color:  #f1f1f1;\n",
       "        }    #T_3793dc24_2446_11eb_8af6_38c9862f77eerow0_col1 {\n",
       "            background-color:  #3b4cc0;\n",
       "            color:  #f1f1f1;\n",
       "        }    #T_3793dc24_2446_11eb_8af6_38c9862f77eerow0_col2 {\n",
       "            background-color:  #ecd3c5;\n",
       "            color:  #000000;\n",
       "        }    #T_3793dc24_2446_11eb_8af6_38c9862f77eerow0_col3 {\n",
       "            background-color:  #adc9fd;\n",
       "            color:  #000000;\n",
       "        }    #T_3793dc24_2446_11eb_8af6_38c9862f77eerow0_col4 {\n",
       "            background-color:  #9dbdff;\n",
       "            color:  #000000;\n",
       "        }    #T_3793dc24_2446_11eb_8af6_38c9862f77eerow0_col5 {\n",
       "            background-color:  #84a7fc;\n",
       "            color:  #000000;\n",
       "        }    #T_3793dc24_2446_11eb_8af6_38c9862f77eerow0_col6 {\n",
       "            background-color:  #7597f6;\n",
       "            color:  #000000;\n",
       "        }    #T_3793dc24_2446_11eb_8af6_38c9862f77eerow1_col0 {\n",
       "            background-color:  #3b4cc0;\n",
       "            color:  #f1f1f1;\n",
       "        }    #T_3793dc24_2446_11eb_8af6_38c9862f77eerow1_col1 {\n",
       "            background-color:  #b40426;\n",
       "            color:  #f1f1f1;\n",
       "        }    #T_3793dc24_2446_11eb_8af6_38c9862f77eerow1_col2 {\n",
       "            background-color:  #b6cefa;\n",
       "            color:  #000000;\n",
       "        }    #T_3793dc24_2446_11eb_8af6_38c9862f77eerow1_col3 {\n",
       "            background-color:  #adc9fd;\n",
       "            color:  #000000;\n",
       "        }    #T_3793dc24_2446_11eb_8af6_38c9862f77eerow1_col4 {\n",
       "            background-color:  #9fbfff;\n",
       "            color:  #000000;\n",
       "        }    #T_3793dc24_2446_11eb_8af6_38c9862f77eerow1_col5 {\n",
       "            background-color:  #84a7fc;\n",
       "            color:  #000000;\n",
       "        }    #T_3793dc24_2446_11eb_8af6_38c9862f77eerow1_col6 {\n",
       "            background-color:  #c4d5f3;\n",
       "            color:  #000000;\n",
       "        }    #T_3793dc24_2446_11eb_8af6_38c9862f77eerow2_col0 {\n",
       "            background-color:  #efcebd;\n",
       "            color:  #000000;\n",
       "        }    #T_3793dc24_2446_11eb_8af6_38c9862f77eerow2_col1 {\n",
       "            background-color:  #c0d4f5;\n",
       "            color:  #000000;\n",
       "        }    #T_3793dc24_2446_11eb_8af6_38c9862f77eerow2_col2 {\n",
       "            background-color:  #b40426;\n",
       "            color:  #f1f1f1;\n",
       "        }    #T_3793dc24_2446_11eb_8af6_38c9862f77eerow2_col3 {\n",
       "            background-color:  #adc9fd;\n",
       "            color:  #000000;\n",
       "        }    #T_3793dc24_2446_11eb_8af6_38c9862f77eerow2_col4 {\n",
       "            background-color:  #7da0f9;\n",
       "            color:  #000000;\n",
       "        }    #T_3793dc24_2446_11eb_8af6_38c9862f77eerow2_col5 {\n",
       "            background-color:  #84a7fc;\n",
       "            color:  #000000;\n",
       "        }    #T_3793dc24_2446_11eb_8af6_38c9862f77eerow2_col6 {\n",
       "            background-color:  #3b4cc0;\n",
       "            color:  #f1f1f1;\n",
       "        }    #T_3793dc24_2446_11eb_8af6_38c9862f77eerow3_col0 {\n",
       "            background-color:  #c7d7f0;\n",
       "            color:  #000000;\n",
       "        }    #T_3793dc24_2446_11eb_8af6_38c9862f77eerow3_col1 {\n",
       "            background-color:  #c7d7f0;\n",
       "            color:  #000000;\n",
       "        }    #T_3793dc24_2446_11eb_8af6_38c9862f77eerow3_col2 {\n",
       "            background-color:  #bed2f6;\n",
       "            color:  #000000;\n",
       "        }    #T_3793dc24_2446_11eb_8af6_38c9862f77eerow3_col3 {\n",
       "            background-color:  #b40426;\n",
       "            color:  #f1f1f1;\n",
       "        }    #T_3793dc24_2446_11eb_8af6_38c9862f77eerow3_col4 {\n",
       "            background-color:  #3b4cc0;\n",
       "            color:  #f1f1f1;\n",
       "        }    #T_3793dc24_2446_11eb_8af6_38c9862f77eerow3_col5 {\n",
       "            background-color:  #e97a5f;\n",
       "            color:  #000000;\n",
       "        }    #T_3793dc24_2446_11eb_8af6_38c9862f77eerow3_col6 {\n",
       "            background-color:  #7597f6;\n",
       "            color:  #000000;\n",
       "        }    #T_3793dc24_2446_11eb_8af6_38c9862f77eerow4_col0 {\n",
       "            background-color:  #bad0f8;\n",
       "            color:  #000000;\n",
       "        }    #T_3793dc24_2446_11eb_8af6_38c9862f77eerow4_col1 {\n",
       "            background-color:  #bcd2f7;\n",
       "            color:  #000000;\n",
       "        }    #T_3793dc24_2446_11eb_8af6_38c9862f77eerow4_col2 {\n",
       "            background-color:  #93b5fe;\n",
       "            color:  #000000;\n",
       "        }    #T_3793dc24_2446_11eb_8af6_38c9862f77eerow4_col3 {\n",
       "            background-color:  #3b4cc0;\n",
       "            color:  #f1f1f1;\n",
       "        }    #T_3793dc24_2446_11eb_8af6_38c9862f77eerow4_col4 {\n",
       "            background-color:  #b40426;\n",
       "            color:  #f1f1f1;\n",
       "        }    #T_3793dc24_2446_11eb_8af6_38c9862f77eerow4_col5 {\n",
       "            background-color:  #3b4cc0;\n",
       "            color:  #f1f1f1;\n",
       "        }    #T_3793dc24_2446_11eb_8af6_38c9862f77eerow4_col6 {\n",
       "            background-color:  #e0654f;\n",
       "            color:  #000000;\n",
       "        }    #T_3793dc24_2446_11eb_8af6_38c9862f77eerow5_col0 {\n",
       "            background-color:  #c7d7f0;\n",
       "            color:  #000000;\n",
       "        }    #T_3793dc24_2446_11eb_8af6_38c9862f77eerow5_col1 {\n",
       "            background-color:  #c7d7f0;\n",
       "            color:  #000000;\n",
       "        }    #T_3793dc24_2446_11eb_8af6_38c9862f77eerow5_col2 {\n",
       "            background-color:  #bed2f6;\n",
       "            color:  #000000;\n",
       "        }    #T_3793dc24_2446_11eb_8af6_38c9862f77eerow5_col3 {\n",
       "            background-color:  #e36c55;\n",
       "            color:  #000000;\n",
       "        }    #T_3793dc24_2446_11eb_8af6_38c9862f77eerow5_col4 {\n",
       "            background-color:  #6a8bef;\n",
       "            color:  #000000;\n",
       "        }    #T_3793dc24_2446_11eb_8af6_38c9862f77eerow5_col5 {\n",
       "            background-color:  #b40426;\n",
       "            color:  #f1f1f1;\n",
       "        }    #T_3793dc24_2446_11eb_8af6_38c9862f77eerow5_col6 {\n",
       "            background-color:  #97b8ff;\n",
       "            color:  #000000;\n",
       "        }    #T_3793dc24_2446_11eb_8af6_38c9862f77eerow6_col0 {\n",
       "            background-color:  #82a6fb;\n",
       "            color:  #000000;\n",
       "        }    #T_3793dc24_2446_11eb_8af6_38c9862f77eerow6_col1 {\n",
       "            background-color:  #ccd9ed;\n",
       "            color:  #000000;\n",
       "        }    #T_3793dc24_2446_11eb_8af6_38c9862f77eerow6_col2 {\n",
       "            background-color:  #3b4cc0;\n",
       "            color:  #f1f1f1;\n",
       "        }    #T_3793dc24_2446_11eb_8af6_38c9862f77eerow6_col3 {\n",
       "            background-color:  #5d7ce6;\n",
       "            color:  #000000;\n",
       "        }    #T_3793dc24_2446_11eb_8af6_38c9862f77eerow6_col4 {\n",
       "            background-color:  #e36b54;\n",
       "            color:  #000000;\n",
       "        }    #T_3793dc24_2446_11eb_8af6_38c9862f77eerow6_col5 {\n",
       "            background-color:  #516ddb;\n",
       "            color:  #000000;\n",
       "        }    #T_3793dc24_2446_11eb_8af6_38c9862f77eerow6_col6 {\n",
       "            background-color:  #b40426;\n",
       "            color:  #f1f1f1;\n",
       "        }</style><table id=\"T_3793dc24_2446_11eb_8af6_38c9862f77ee\" ><thead>    <tr>        <th class=\"blank level0\" ></th>        <th class=\"col_heading level0 col0\" >lat</th>        <th class=\"col_heading level0 col1\" >long</th>        <th class=\"col_heading level0 col2\" >pop</th>        <th class=\"col_heading level0 col3\" >price</th>        <th class=\"col_heading level0 col4\" >quantity</th>        <th class=\"col_heading level0 col5\" >capacity_in_ml</th>        <th class=\"col_heading level0 col6\" >Per_capita_comsumption</th>    </tr></thead><tbody>\n",
       "                <tr>\n",
       "                        <th id=\"T_3793dc24_2446_11eb_8af6_38c9862f77eelevel0_row0\" class=\"row_heading level0 row0\" >lat</th>\n",
       "                        <td id=\"T_3793dc24_2446_11eb_8af6_38c9862f77eerow0_col0\" class=\"data row0 col0\" >1.000000</td>\n",
       "                        <td id=\"T_3793dc24_2446_11eb_8af6_38c9862f77eerow0_col1\" class=\"data row0 col1\" >-0.730000</td>\n",
       "                        <td id=\"T_3793dc24_2446_11eb_8af6_38c9862f77eerow0_col2\" class=\"data row0 col2\" >0.280000</td>\n",
       "                        <td id=\"T_3793dc24_2446_11eb_8af6_38c9862f77eerow0_col3\" class=\"data row0 col3\" >-0.000000</td>\n",
       "                        <td id=\"T_3793dc24_2446_11eb_8af6_38c9862f77eerow0_col4\" class=\"data row0 col4\" >-0.070000</td>\n",
       "                        <td id=\"T_3793dc24_2446_11eb_8af6_38c9862f77eerow0_col5\" class=\"data row0 col5\" >0.000000</td>\n",
       "                        <td id=\"T_3793dc24_2446_11eb_8af6_38c9862f77eerow0_col6\" class=\"data row0 col6\" >-0.350000</td>\n",
       "            </tr>\n",
       "            <tr>\n",
       "                        <th id=\"T_3793dc24_2446_11eb_8af6_38c9862f77eelevel0_row1\" class=\"row_heading level0 row1\" >long</th>\n",
       "                        <td id=\"T_3793dc24_2446_11eb_8af6_38c9862f77eerow1_col0\" class=\"data row1 col0\" >-0.730000</td>\n",
       "                        <td id=\"T_3793dc24_2446_11eb_8af6_38c9862f77eerow1_col1\" class=\"data row1 col1\" >1.000000</td>\n",
       "                        <td id=\"T_3793dc24_2446_11eb_8af6_38c9862f77eerow1_col2\" class=\"data row1 col2\" >-0.040000</td>\n",
       "                        <td id=\"T_3793dc24_2446_11eb_8af6_38c9862f77eerow1_col3\" class=\"data row1 col3\" >0.000000</td>\n",
       "                        <td id=\"T_3793dc24_2446_11eb_8af6_38c9862f77eerow1_col4\" class=\"data row1 col4\" >-0.060000</td>\n",
       "                        <td id=\"T_3793dc24_2446_11eb_8af6_38c9862f77eerow1_col5\" class=\"data row1 col5\" >-0.000000</td>\n",
       "                        <td id=\"T_3793dc24_2446_11eb_8af6_38c9862f77eerow1_col6\" class=\"data row1 col6\" >0.030000</td>\n",
       "            </tr>\n",
       "            <tr>\n",
       "                        <th id=\"T_3793dc24_2446_11eb_8af6_38c9862f77eelevel0_row2\" class=\"row_heading level0 row2\" >pop</th>\n",
       "                        <td id=\"T_3793dc24_2446_11eb_8af6_38c9862f77eerow2_col0\" class=\"data row2 col0\" >0.280000</td>\n",
       "                        <td id=\"T_3793dc24_2446_11eb_8af6_38c9862f77eerow2_col1\" class=\"data row2 col1\" >-0.040000</td>\n",
       "                        <td id=\"T_3793dc24_2446_11eb_8af6_38c9862f77eerow2_col2\" class=\"data row2 col2\" >1.000000</td>\n",
       "                        <td id=\"T_3793dc24_2446_11eb_8af6_38c9862f77eerow2_col3\" class=\"data row2 col3\" >0.000000</td>\n",
       "                        <td id=\"T_3793dc24_2446_11eb_8af6_38c9862f77eerow2_col4\" class=\"data row2 col4\" >-0.210000</td>\n",
       "                        <td id=\"T_3793dc24_2446_11eb_8af6_38c9862f77eerow2_col5\" class=\"data row2 col5\" >0.000000</td>\n",
       "                        <td id=\"T_3793dc24_2446_11eb_8af6_38c9862f77eerow2_col6\" class=\"data row2 col6\" >-0.650000</td>\n",
       "            </tr>\n",
       "            <tr>\n",
       "                        <th id=\"T_3793dc24_2446_11eb_8af6_38c9862f77eelevel0_row3\" class=\"row_heading level0 row3\" >price</th>\n",
       "                        <td id=\"T_3793dc24_2446_11eb_8af6_38c9862f77eerow3_col0\" class=\"data row3 col0\" >-0.000000</td>\n",
       "                        <td id=\"T_3793dc24_2446_11eb_8af6_38c9862f77eerow3_col1\" class=\"data row3 col1\" >0.000000</td>\n",
       "                        <td id=\"T_3793dc24_2446_11eb_8af6_38c9862f77eerow3_col2\" class=\"data row3 col2\" >0.000000</td>\n",
       "                        <td id=\"T_3793dc24_2446_11eb_8af6_38c9862f77eerow3_col3\" class=\"data row3 col3\" >1.000000</td>\n",
       "                        <td id=\"T_3793dc24_2446_11eb_8af6_38c9862f77eerow3_col4\" class=\"data row3 col4\" >-0.520000</td>\n",
       "                        <td id=\"T_3793dc24_2446_11eb_8af6_38c9862f77eerow3_col5\" class=\"data row3 col5\" >0.770000</td>\n",
       "                        <td id=\"T_3793dc24_2446_11eb_8af6_38c9862f77eerow3_col6\" class=\"data row3 col6\" >-0.350000</td>\n",
       "            </tr>\n",
       "            <tr>\n",
       "                        <th id=\"T_3793dc24_2446_11eb_8af6_38c9862f77eelevel0_row4\" class=\"row_heading level0 row4\" >quantity</th>\n",
       "                        <td id=\"T_3793dc24_2446_11eb_8af6_38c9862f77eerow4_col0\" class=\"data row4 col0\" >-0.070000</td>\n",
       "                        <td id=\"T_3793dc24_2446_11eb_8af6_38c9862f77eerow4_col1\" class=\"data row4 col1\" >-0.060000</td>\n",
       "                        <td id=\"T_3793dc24_2446_11eb_8af6_38c9862f77eerow4_col2\" class=\"data row4 col2\" >-0.210000</td>\n",
       "                        <td id=\"T_3793dc24_2446_11eb_8af6_38c9862f77eerow4_col3\" class=\"data row4 col3\" >-0.520000</td>\n",
       "                        <td id=\"T_3793dc24_2446_11eb_8af6_38c9862f77eerow4_col4\" class=\"data row4 col4\" >1.000000</td>\n",
       "                        <td id=\"T_3793dc24_2446_11eb_8af6_38c9862f77eerow4_col5\" class=\"data row4 col5\" >-0.290000</td>\n",
       "                        <td id=\"T_3793dc24_2446_11eb_8af6_38c9862f77eerow4_col6\" class=\"data row4 col6\" >0.780000</td>\n",
       "            </tr>\n",
       "            <tr>\n",
       "                        <th id=\"T_3793dc24_2446_11eb_8af6_38c9862f77eelevel0_row5\" class=\"row_heading level0 row5\" >capacity_in_ml</th>\n",
       "                        <td id=\"T_3793dc24_2446_11eb_8af6_38c9862f77eerow5_col0\" class=\"data row5 col0\" >0.000000</td>\n",
       "                        <td id=\"T_3793dc24_2446_11eb_8af6_38c9862f77eerow5_col1\" class=\"data row5 col1\" >-0.000000</td>\n",
       "                        <td id=\"T_3793dc24_2446_11eb_8af6_38c9862f77eerow5_col2\" class=\"data row5 col2\" >0.000000</td>\n",
       "                        <td id=\"T_3793dc24_2446_11eb_8af6_38c9862f77eerow5_col3\" class=\"data row5 col3\" >0.770000</td>\n",
       "                        <td id=\"T_3793dc24_2446_11eb_8af6_38c9862f77eerow5_col4\" class=\"data row5 col4\" >-0.290000</td>\n",
       "                        <td id=\"T_3793dc24_2446_11eb_8af6_38c9862f77eerow5_col5\" class=\"data row5 col5\" >1.000000</td>\n",
       "                        <td id=\"T_3793dc24_2446_11eb_8af6_38c9862f77eerow5_col6\" class=\"data row5 col6\" >-0.190000</td>\n",
       "            </tr>\n",
       "            <tr>\n",
       "                        <th id=\"T_3793dc24_2446_11eb_8af6_38c9862f77eelevel0_row6\" class=\"row_heading level0 row6\" >Per_capita_comsumption</th>\n",
       "                        <td id=\"T_3793dc24_2446_11eb_8af6_38c9862f77eerow6_col0\" class=\"data row6 col0\" >-0.350000</td>\n",
       "                        <td id=\"T_3793dc24_2446_11eb_8af6_38c9862f77eerow6_col1\" class=\"data row6 col1\" >0.030000</td>\n",
       "                        <td id=\"T_3793dc24_2446_11eb_8af6_38c9862f77eerow6_col2\" class=\"data row6 col2\" >-0.650000</td>\n",
       "                        <td id=\"T_3793dc24_2446_11eb_8af6_38c9862f77eerow6_col3\" class=\"data row6 col3\" >-0.350000</td>\n",
       "                        <td id=\"T_3793dc24_2446_11eb_8af6_38c9862f77eerow6_col4\" class=\"data row6 col4\" >0.780000</td>\n",
       "                        <td id=\"T_3793dc24_2446_11eb_8af6_38c9862f77eerow6_col5\" class=\"data row6 col5\" >-0.190000</td>\n",
       "                        <td id=\"T_3793dc24_2446_11eb_8af6_38c9862f77eerow6_col6\" class=\"data row6 col6\" >1.000000</td>\n",
       "            </tr>\n",
       "    </tbody></table>"
      ],
      "text/plain": [
       "<pandas.io.formats.style.Styler at 0x7fb804a7be90>"
      ]
     },
     "execution_count": 17,
     "metadata": {},
     "output_type": "execute_result"
    }
   ],
   "source": [
    "#Explain the use of Coorelation plot\n",
    "##Role of Correlation in Features selection\n",
    "corr = df.corr()\n",
    "corr.round(2).style.background_gradient(cmap='coolwarm')"
   ]
  },
  {
   "cell_type": "markdown",
   "metadata": {
    "colab_type": "text",
    "id": "K_cyPDSe4-XL"
   },
   "source": [
    "When reviewing the Pearson correlation coefficient heatmap, you can see substantial differences in the correlations compared to the response variable(s) as well as in the features when compared to each other. The heatmap helps identify features that suffer from multi-collinearity. "
   ]
  }
 ],
 "metadata": {
  "colab": {
   "collapsed_sections": [],
   "name": "GuidedCapstoneStep3.ipynb",
   "provenance": []
  },
  "kernelspec": {
   "display_name": "Python 3",
   "language": "python",
   "name": "python3"
  },
  "language_info": {
   "codemirror_mode": {
    "name": "ipython",
    "version": 3
   },
   "file_extension": ".py",
   "mimetype": "text/x-python",
   "name": "python",
   "nbconvert_exporter": "python",
   "pygments_lexer": "ipython3",
   "version": "3.7.6"
  },
  "toc": {
   "base_numbering": "0",
   "nav_menu": {},
   "number_sections": true,
   "sideBar": true,
   "skip_h1_title": false,
   "title_cell": "Table of Contents",
   "title_sidebar": "Contents",
   "toc_cell": true,
   "toc_position": {
    "height": "calc(100% - 180px)",
    "left": "10px",
    "top": "150px",
    "width": "288px"
   },
   "toc_section_display": true,
   "toc_window_display": true
  }
 },
 "nbformat": 4,
 "nbformat_minor": 4
}
