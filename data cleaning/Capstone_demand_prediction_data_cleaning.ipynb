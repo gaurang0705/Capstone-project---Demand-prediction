{
 "cells": [
  {
   "cell_type": "markdown",
   "metadata": {
    "colab_type": "text",
    "id": "cf5CmXQCZyF1"
   },
   "source": [
    "# CapstoneData Wrangling\n",
    "\n",
    "\n",
    "Data wrangling is the second step in the Data Science Method. This step consists of multiple components including Data Collection, Data Organization, Data Definitions, and Data Cleaning.  "
   ]
  },
  {
   "cell_type": "markdown",
   "metadata": {
    "colab_type": "text",
    "id": "Cc0lyndRYxYY"
   },
   "source": [
    "\n",
    "\n",
    "**The Data Science Method**  \n",
    "\n",
    "\n",
    "1.   Problem Identification \n",
    "\n",
    "2.   **Data Wrangling** \n",
    "  * Data Collection\n",
    "      - Locating the data\n",
    "      - Data loading\n",
    "      - Data joining\n",
    "   * Data Organization\n",
    "      -  File structure\n",
    "      -  Git & Github\n",
    "  * Data Definition\n",
    "      - Column names\n",
    "      - Data types (numeric, categorical, timestamp, etc.)\n",
    "      - Description of the columns\n",
    "      - Count or percent per unique values or codes (including NA)\n",
    "      - The range of values or codes  \n",
    "  * Data Cleaning\n",
    "      - NA or missing data\n",
    "      - Duplicates\n",
    " \n",
    "3.   Exploratory Data Analysis \n",
    "\n",
    "4.   Pre-processing and Training Data Development\n",
    "\n",
    "5.   Modeling \n",
    "\n",
    "6.   Documentation\n",
    "\n",
    "\n",
    "\n"
   ]
  },
  {
   "cell_type": "markdown",
   "metadata": {
    "colab_type": "text",
    "id": "9YQUNzQ_PqR9"
   },
   "source": [
    "## Data Collection"
   ]
  },
  {
   "cell_type": "markdown",
   "metadata": {
    "colab_type": "text",
    "id": "7PrMkSjBQEMZ"
   },
   "source": [
    "First, you'll load the needed packages and modules into Python. Then you'll load the data into a pandas dataframe for ease of use. Run the cell below to get started."
   ]
  },
  {
   "cell_type": "markdown",
   "metadata": {},
   "source": [
    "#In this exercise we are going to cover 4 areas of Data Preparation\n",
    "#1 - Data Load\n",
    "#2 - Data Organsation\n",
    "#3 - Data Definition\n",
    "#4 - Data Cleaning"
   ]
  },
  {
   "cell_type": "code",
   "execution_count": 1,
   "metadata": {
    "colab": {},
    "colab_type": "code",
    "id": "ry6WPL5eZyF3"
   },
   "outputs": [],
   "source": [
    "#load python packages\n",
    "import os\n",
    "import pandas as pd\n",
    "import datetime\n",
    "import seaborn as sns\n",
    "import matplotlib.pyplot as plt\n",
    "import numpy as np\n",
    "%matplotlib inline"
   ]
  },
  {
   "cell_type": "markdown",
   "metadata": {
    "colab_type": "text",
    "id": "neztjhJN16Hj"
   },
   "source": [
    "**<font color='teal'> Print the current working directory </font>**"
   ]
  },
  {
   "cell_type": "code",
   "execution_count": 2,
   "metadata": {},
   "outputs": [
    {
     "data": {
      "text/plain": [
       "'/Users/deepankarsingh/Data science/capstone project_demand_prediction/notebook'"
      ]
     },
     "execution_count": 2,
     "metadata": {},
     "output_type": "execute_result"
    }
   ],
   "source": [
    "os.getcwd()"
   ]
  },
  {
   "cell_type": "markdown",
   "metadata": {
    "colab_type": "text",
    "id": "630T-ogRZyF8"
   },
   "source": [
    "### Load the data from the csv file\n",
    "Data has been taken from kaggle .\n",
    "Link for the data - https://www.kaggle.com/veeralakrishna/predict-demand?select=test.csv\n",
    "File name as saved in the drive - `sales_data.csv`\n"
   ]
  },
  {
   "cell_type": "markdown",
   "metadata": {
    "colab_type": "text",
    "id": "dUTKn8oH16Hx"
   },
   "source": [
    "<font color='teal'> **Load the data into a pandas dataframe and print the first five rows of the dataframe.**</font>"
   ]
  },
  {
   "cell_type": "code",
   "execution_count": 3,
   "metadata": {
    "colab": {},
    "colab_type": "code",
    "id": "dMNbk0u3ZyF9"
   },
   "outputs": [
    {
     "data": {
      "text/html": [
       "<div>\n",
       "<style scoped>\n",
       "    .dataframe tbody tr th:only-of-type {\n",
       "        vertical-align: middle;\n",
       "    }\n",
       "\n",
       "    .dataframe tbody tr th {\n",
       "        vertical-align: top;\n",
       "    }\n",
       "\n",
       "    .dataframe thead th {\n",
       "        text-align: right;\n",
       "    }\n",
       "</style>\n",
       "<table border=\"1\" class=\"dataframe\">\n",
       "  <thead>\n",
       "    <tr style=\"text-align: right;\">\n",
       "      <th></th>\n",
       "      <th>date</th>\n",
       "      <th>city</th>\n",
       "      <th>lat</th>\n",
       "      <th>long</th>\n",
       "      <th>pop</th>\n",
       "      <th>shop</th>\n",
       "      <th>brand</th>\n",
       "      <th>container</th>\n",
       "      <th>capacity</th>\n",
       "      <th>price</th>\n",
       "      <th>quantity</th>\n",
       "    </tr>\n",
       "    <tr>\n",
       "      <th>id</th>\n",
       "      <th></th>\n",
       "      <th></th>\n",
       "      <th></th>\n",
       "      <th></th>\n",
       "      <th></th>\n",
       "      <th></th>\n",
       "      <th></th>\n",
       "      <th></th>\n",
       "      <th></th>\n",
       "      <th></th>\n",
       "      <th></th>\n",
       "    </tr>\n",
       "  </thead>\n",
       "  <tbody>\n",
       "    <tr>\n",
       "      <th>0.0</th>\n",
       "      <td>2012-01-31</td>\n",
       "      <td>Athens</td>\n",
       "      <td>37.97945</td>\n",
       "      <td>23.71622</td>\n",
       "      <td>672130.0</td>\n",
       "      <td>shop_1</td>\n",
       "      <td>kinder-cola</td>\n",
       "      <td>glass</td>\n",
       "      <td>500ml</td>\n",
       "      <td>0.96</td>\n",
       "      <td>13280.0</td>\n",
       "    </tr>\n",
       "    <tr>\n",
       "      <th>1.0</th>\n",
       "      <td>2012-01-31</td>\n",
       "      <td>Athens</td>\n",
       "      <td>37.97945</td>\n",
       "      <td>23.71622</td>\n",
       "      <td>672130.0</td>\n",
       "      <td>shop_1</td>\n",
       "      <td>kinder-cola</td>\n",
       "      <td>plastic</td>\n",
       "      <td>1.5lt</td>\n",
       "      <td>2.86</td>\n",
       "      <td>6727.0</td>\n",
       "    </tr>\n",
       "    <tr>\n",
       "      <th>2.0</th>\n",
       "      <td>2012-01-31</td>\n",
       "      <td>Athens</td>\n",
       "      <td>37.97945</td>\n",
       "      <td>23.71622</td>\n",
       "      <td>672130.0</td>\n",
       "      <td>shop_1</td>\n",
       "      <td>kinder-cola</td>\n",
       "      <td>can</td>\n",
       "      <td>330ml</td>\n",
       "      <td>0.87</td>\n",
       "      <td>9848.0</td>\n",
       "    </tr>\n",
       "    <tr>\n",
       "      <th>3.0</th>\n",
       "      <td>2012-01-31</td>\n",
       "      <td>Athens</td>\n",
       "      <td>37.97945</td>\n",
       "      <td>23.71622</td>\n",
       "      <td>672130.0</td>\n",
       "      <td>shop_1</td>\n",
       "      <td>adult-cola</td>\n",
       "      <td>glass</td>\n",
       "      <td>500ml</td>\n",
       "      <td>1.00</td>\n",
       "      <td>20050.0</td>\n",
       "    </tr>\n",
       "    <tr>\n",
       "      <th>4.0</th>\n",
       "      <td>2012-01-31</td>\n",
       "      <td>Athens</td>\n",
       "      <td>37.97945</td>\n",
       "      <td>23.71622</td>\n",
       "      <td>672130.0</td>\n",
       "      <td>shop_1</td>\n",
       "      <td>adult-cola</td>\n",
       "      <td>can</td>\n",
       "      <td>330ml</td>\n",
       "      <td>0.39</td>\n",
       "      <td>25696.0</td>\n",
       "    </tr>\n",
       "  </tbody>\n",
       "</table>\n",
       "</div>"
      ],
      "text/plain": [
       "          date    city       lat      long       pop    shop        brand  \\\n",
       "id                                                                          \n",
       "0.0 2012-01-31  Athens  37.97945  23.71622  672130.0  shop_1  kinder-cola   \n",
       "1.0 2012-01-31  Athens  37.97945  23.71622  672130.0  shop_1  kinder-cola   \n",
       "2.0 2012-01-31  Athens  37.97945  23.71622  672130.0  shop_1  kinder-cola   \n",
       "3.0 2012-01-31  Athens  37.97945  23.71622  672130.0  shop_1   adult-cola   \n",
       "4.0 2012-01-31  Athens  37.97945  23.71622  672130.0  shop_1   adult-cola   \n",
       "\n",
       "    container capacity  price  quantity  \n",
       "id                                       \n",
       "0.0     glass    500ml   0.96   13280.0  \n",
       "1.0   plastic    1.5lt   2.86    6727.0  \n",
       "2.0       can    330ml   0.87    9848.0  \n",
       "3.0     glass    500ml   1.00   20050.0  \n",
       "4.0       can    330ml   0.39   25696.0  "
      ]
     },
     "execution_count": 3,
     "metadata": {},
     "output_type": "execute_result"
    }
   ],
   "source": [
    "df = pd.read_csv(\"sales_data.csv\" ,index_col= 'id' ,parse_dates = ['date'])\n",
    "df.head()"
   ]
  },
  {
   "cell_type": "markdown",
   "metadata": {
    "colab_type": "text",
    "id": "aRMZPPkjYYJl"
   },
   "source": [
    "## Data Organization"
   ]
  },
  {
   "cell_type": "markdown",
   "metadata": {
    "colab_type": "text",
    "id": "QocLKpWsbmzK"
   },
   "source": [
    "Data organization for this guided capstone involves creating a basic project folder structure. As you read in the Medium article introducing the data wrangling step, this step is often completed using Github or a module such as cookiecutter. Now that you have your data and your notebook pointing to your working project directory, let's start by printing the current file location. You'll then create a few subfolders to keep your project organized."
   ]
  },
  {
   "cell_type": "markdown",
   "metadata": {
    "colab_type": "text",
    "id": "N2u9ANLx16H3"
   },
   "source": [
    "<font color='teal'> **Finish the statement below by assigning the path variable.**</font>"
   ]
  },
  {
   "cell_type": "code",
   "execution_count": 4,
   "metadata": {
    "colab": {},
    "colab_type": "code",
    "id": "z9Ke_XEFcPrV"
   },
   "outputs": [],
   "source": [
    "path = '/Users/deepankarsingh/Data science/capstone project_demand_prediction'"
   ]
  },
  {
   "cell_type": "code",
   "execution_count": 5,
   "metadata": {
    "colab": {},
    "colab_type": "code",
    "id": "lEQXorWj16H8"
   },
   "outputs": [
    {
     "name": "stdout",
     "output_type": "stream",
     "text": [
      "The current working directory is /Users/deepankarsingh/Data science/capstone project_demand_prediction\n"
     ]
    }
   ],
   "source": [
    "print (\"The current working directory is %s\" % path)"
   ]
  },
  {
   "cell_type": "markdown",
   "metadata": {
    "colab_type": "text",
    "id": "OgCUIo6FqPzg"
   },
   "source": [
    "### Create subfolders in your project directory"
   ]
  },
  {
   "cell_type": "markdown",
   "metadata": {
    "colab_type": "text",
    "id": "kkXs9gaGfzkR"
   },
   "source": [
    "Now, create some subfolders inside your project folder."
   ]
  },
  {
   "cell_type": "markdown",
   "metadata": {
    "colab_type": "text",
    "id": "Fs-szPMUi0GL"
   },
   "source": [
    "<font color='teal'> **Create a folder for the data visualizations you will create in future steps called `figures`.**</font>"
   ]
  },
  {
   "cell_type": "code",
   "execution_count": 6,
   "metadata": {
    "colab": {},
    "colab_type": "code",
    "id": "qfLr-ujSierP"
   },
   "outputs": [],
   "source": [
    "#os.mkdir('figures')"
   ]
  },
  {
   "cell_type": "markdown",
   "metadata": {
    "colab_type": "text",
    "id": "9cufs4ZUo3as"
   },
   "source": [
    "<font color='teal'> **Print the contents of your project folder to confirm you created the additional folders in your directory.**</font>"
   ]
  },
  {
   "cell_type": "code",
   "execution_count": 7,
   "metadata": {
    "colab": {},
    "colab_type": "code",
    "id": "is6wXPH3pEeJ"
   },
   "outputs": [
    {
     "data": {
      "text/plain": [
       "'/Users/deepankarsingh/Data science/capstone project_demand_prediction/notebook'"
      ]
     },
     "execution_count": 7,
     "metadata": {},
     "output_type": "execute_result"
    }
   ],
   "source": [
    "os.getcwd()"
   ]
  },
  {
   "cell_type": "markdown",
   "metadata": {
    "colab_type": "text",
    "id": "B41tFEs0jLyr"
   },
   "source": [
    "## Data Definition\n",
    "In this step, you'll review column names, data types, and null values."
   ]
  },
  {
   "cell_type": "markdown",
   "metadata": {
    "colab_type": "text",
    "id": "wRi0i3vuqzuu"
   },
   "source": [
    "### Column Names \n",
    "<font color='teal'> **Print the columns names of the entire dataframe**</font>"
   ]
  },
  {
   "cell_type": "code",
   "execution_count": 8,
   "metadata": {
    "colab": {},
    "colab_type": "code",
    "id": "TJ_Cpxujq2C-"
   },
   "outputs": [
    {
     "data": {
      "text/plain": [
       "Index(['date', 'city', 'lat', 'long', 'pop', 'shop', 'brand', 'container',\n",
       "       'capacity', 'price', 'quantity'],\n",
       "      dtype='object')"
      ]
     },
     "execution_count": 8,
     "metadata": {},
     "output_type": "execute_result"
    }
   ],
   "source": [
    "df.columns"
   ]
  },
  {
   "cell_type": "markdown",
   "metadata": {
    "colab_type": "text",
    "id": "TaNtPKb1sjaR"
   },
   "source": [
    "### Data Types \n",
    "Review which columns are integer, float, categorical, or dates. Make sure the data type is loaded properly in the dataframe. "
   ]
  },
  {
   "cell_type": "markdown",
   "metadata": {
    "colab_type": "text",
    "id": "z5DGO9VS16IZ"
   },
   "source": [
    "<font color='teal'> **Using the `df.dtypes` function, print the variable names and associated datatypes.**</font>"
   ]
  },
  {
   "cell_type": "code",
   "execution_count": 9,
   "metadata": {
    "colab": {},
    "colab_type": "code",
    "id": "nYhpP7RlPG94"
   },
   "outputs": [
    {
     "data": {
      "text/plain": [
       "date         datetime64[ns]\n",
       "city                 object\n",
       "lat                 float64\n",
       "long                float64\n",
       "pop                 float64\n",
       "shop                 object\n",
       "brand                object\n",
       "container            object\n",
       "capacity             object\n",
       "price               float64\n",
       "quantity            float64\n",
       "dtype: object"
      ]
     },
     "execution_count": 9,
     "metadata": {},
     "output_type": "execute_result"
    }
   ],
   "source": [
    "#Explaina bit about datatype and try to mark which data type we think will play a role in model\n",
    "df.dtypes"
   ]
  },
  {
   "cell_type": "markdown",
   "metadata": {
    "colab_type": "text",
    "id": "xbZepZ0zPM1I"
   },
   "source": [
    "<font color='teal'> **The `df.info()` function also prints the count of non-null values per column. Use this function to review the column names, null value counts and data types of your data frame.**</font>"
   ]
  },
  {
   "cell_type": "code",
   "execution_count": 10,
   "metadata": {
    "colab": {},
    "colab_type": "code",
    "id": "0pHnZG1jjU3G"
   },
   "outputs": [
    {
     "name": "stdout",
     "output_type": "stream",
     "text": [
      "<class 'pandas.core.frame.DataFrame'>\n",
      "Float64Index: 7560 entries, 0.0 to nan\n",
      "Data columns (total 11 columns):\n",
      " #   Column     Non-Null Count  Dtype         \n",
      "---  ------     --------------  -----         \n",
      " 0   date       6480 non-null   datetime64[ns]\n",
      " 1   city       6480 non-null   object        \n",
      " 2   lat        6429 non-null   float64       \n",
      " 3   long       6434 non-null   float64       \n",
      " 4   pop        6480 non-null   float64       \n",
      " 5   shop       6480 non-null   object        \n",
      " 6   brand      6480 non-null   object        \n",
      " 7   container  6464 non-null   object        \n",
      " 8   capacity   6465 non-null   object        \n",
      " 9   price      6480 non-null   float64       \n",
      " 10  quantity   6480 non-null   float64       \n",
      "dtypes: datetime64[ns](1), float64(5), object(5)\n",
      "memory usage: 708.8+ KB\n"
     ]
    }
   ],
   "source": [
    "#Check what important information we are getting from the command\n",
    "df.info()"
   ]
  },
  {
   "cell_type": "markdown",
   "metadata": {
    "colab_type": "text",
    "id": "K22bNiPkqsbb"
   },
   "source": [
    "Initially we don't see any Null vlaue in the data provided"
   ]
  },
  {
   "cell_type": "markdown",
   "metadata": {
    "colab_type": "text",
    "id": "atpuAuVTfqB-"
   },
   "source": [
    "### Count of unique values or codes\n",
    "<font color='teal'> **Print the count of unique values for every column, regardless of data type.**</font>"
   ]
  },
  {
   "cell_type": "code",
   "execution_count": 11,
   "metadata": {
    "colab": {},
    "colab_type": "code",
    "id": "uPd3Kki096wp"
   },
   "outputs": [
    {
     "data": {
      "text/plain": [
       "<bound method DataFrame.nunique of           date    city       lat      long       pop    shop        brand  \\\n",
       "id                                                                          \n",
       "0.0 2012-01-31  Athens  37.97945  23.71622  672130.0  shop_1  kinder-cola   \n",
       "1.0 2012-01-31  Athens  37.97945  23.71622  672130.0  shop_1  kinder-cola   \n",
       "2.0 2012-01-31  Athens  37.97945  23.71622  672130.0  shop_1  kinder-cola   \n",
       "3.0 2012-01-31  Athens  37.97945  23.71622  672130.0  shop_1   adult-cola   \n",
       "4.0 2012-01-31  Athens  37.97945  23.71622  672130.0  shop_1   adult-cola   \n",
       "..         ...     ...       ...       ...       ...     ...          ...   \n",
       "NaN        NaT     NaN       NaN       NaN       NaN     NaN          NaN   \n",
       "NaN        NaT     NaN       NaN       NaN       NaN     NaN          NaN   \n",
       "NaN        NaT     NaN       NaN       NaN       NaN     NaN          NaN   \n",
       "NaN        NaT     NaN       NaN       NaN       NaN     NaN          NaN   \n",
       "NaN        NaT     NaN       NaN       NaN       NaN     NaN          NaN   \n",
       "\n",
       "    container capacity  price  quantity  \n",
       "id                                       \n",
       "0.0     glass    500ml   0.96   13280.0  \n",
       "1.0   plastic    1.5lt   2.86    6727.0  \n",
       "2.0       can    330ml   0.87    9848.0  \n",
       "3.0     glass    500ml   1.00   20050.0  \n",
       "4.0       can    330ml   0.39   25696.0  \n",
       "..        ...      ...    ...       ...  \n",
       "NaN       NaN      NaN    NaN       NaN  \n",
       "NaN       NaN      NaN    NaN       NaN  \n",
       "NaN       NaN      NaN    NaN       NaN  \n",
       "NaN       NaN      NaN    NaN       NaN  \n",
       "NaN       NaN      NaN    NaN       NaN  \n",
       "\n",
       "[7560 rows x 11 columns]>"
      ]
     },
     "execution_count": 11,
     "metadata": {},
     "output_type": "execute_result"
    }
   ],
   "source": [
    "df.nunique"
   ]
  },
  {
   "cell_type": "markdown",
   "metadata": {
    "colab_type": "text",
    "id": "IpgqbVlqFqJH"
   },
   "source": [
    "<font color='teal'> **Print the percent of unique values per column. Use the `df.nunique` and the size of the dataframe to calculate the percentages.**</font>"
   ]
  },
  {
   "cell_type": "code",
   "execution_count": 12,
   "metadata": {
    "colab": {},
    "colab_type": "code",
    "id": "Zs84OwNJEy2a"
   },
   "outputs": [
    {
     "name": "stdout",
     "output_type": "stream",
     "text": [
      "date         0.009524\n",
      "city         0.000661\n",
      "lat          0.000794\n",
      "long         0.000794\n",
      "pop          0.003968\n",
      "shop         0.000794\n",
      "brand        0.000661\n",
      "container    0.000397\n",
      "capacity     0.000397\n",
      "price        0.052116\n",
      "quantity     0.802778\n",
      "dtype: float64\n"
     ]
    }
   ],
   "source": [
    "print(df.nunique()/df.shape[0])"
   ]
  },
  {
   "cell_type": "code",
   "execution_count": 13,
   "metadata": {},
   "outputs": [
    {
     "data": {
      "text/plain": [
       "date         1080\n",
       "city         1080\n",
       "lat          1131\n",
       "long         1126\n",
       "pop          1080\n",
       "shop         1080\n",
       "brand        1080\n",
       "container    1096\n",
       "capacity     1095\n",
       "price        1080\n",
       "quantity     1080\n",
       "dtype: int64"
      ]
     },
     "execution_count": 13,
     "metadata": {},
     "output_type": "execute_result"
    }
   ],
   "source": [
    "df.isnull().sum()"
   ]
  },
  {
   "cell_type": "markdown",
   "metadata": {},
   "source": [
    "Hwere we can see number of null values per attribute. "
   ]
  },
  {
   "cell_type": "markdown",
   "metadata": {
    "colab_type": "text",
    "id": "aFjEno7hHXRK"
   },
   "source": [
    "When working with categorical columns, it's really helpful to know what the unique codes are. <font color='teal'> **For example, if you look at the `brand` or `city` column, youcan print out the different states in the dataframe.**</font>\n",
    "\n"
   ]
  },
  {
   "cell_type": "code",
   "execution_count": 14,
   "metadata": {
    "colab": {},
    "colab_type": "code",
    "id": "BMorHSRuIdnI"
   },
   "outputs": [
    {
     "data": {
      "text/plain": [
       "Athens          2160\n",
       "Larisa          1080\n",
       "Irakleion       1080\n",
       "Thessaloniki    1080\n",
       "Patra           1080\n",
       "Name: city, dtype: int64"
      ]
     },
     "execution_count": 14,
     "metadata": {},
     "output_type": "execute_result"
    }
   ],
   "source": [
    "#The importance of reset_index\n",
    "df['city'].value_counts()"
   ]
  },
  {
   "cell_type": "code",
   "execution_count": 15,
   "metadata": {
    "colab": {},
    "colab_type": "code",
    "id": "BMorHSRuIdnI"
   },
   "outputs": [
    {
     "data": {
      "text/plain": [
       "kinder-cola     1296\n",
       "adult-cola      1296\n",
       "orange-power    1296\n",
       "lemon-boost     1296\n",
       "gazoza          1296\n",
       "Name: brand, dtype: int64"
      ]
     },
     "execution_count": 15,
     "metadata": {},
     "output_type": "execute_result"
    }
   ],
   "source": [
    "#The importance of reset_index\n",
    "df['brand'].value_counts()"
   ]
  },
  {
   "cell_type": "markdown",
   "metadata": {
    "colab_type": "text",
    "id": "bedbwBrU-3yd"
   },
   "source": [
    "### Range of values per column\n",
    "\n",
    "<font color='teal'>**Print the range of values using the aggregate function.**</font>\n",
    "\n",
    "Hint: you can do this in a variety of ways, but one way is using the `agg()` dataframe method. You can pass this the `[min, max]` parameter and then call `.T` on the result to transpose it. "
   ]
  },
  {
   "cell_type": "code",
   "execution_count": 16,
   "metadata": {
    "colab": {},
    "colab_type": "code",
    "id": "LPJCPG1P-Vvb"
   },
   "outputs": [
    {
     "data": {
      "text/html": [
       "<div>\n",
       "<style scoped>\n",
       "    .dataframe tbody tr th:only-of-type {\n",
       "        vertical-align: middle;\n",
       "    }\n",
       "\n",
       "    .dataframe tbody tr th {\n",
       "        vertical-align: top;\n",
       "    }\n",
       "\n",
       "    .dataframe thead th {\n",
       "        text-align: right;\n",
       "    }\n",
       "</style>\n",
       "<table border=\"1\" class=\"dataframe\">\n",
       "  <thead>\n",
       "    <tr style=\"text-align: right;\">\n",
       "      <th></th>\n",
       "      <th>min</th>\n",
       "      <th>max</th>\n",
       "    </tr>\n",
       "  </thead>\n",
       "  <tbody>\n",
       "    <tr>\n",
       "      <th>date</th>\n",
       "      <td>2012-01-31 00:00:00</td>\n",
       "      <td>2017-12-31 00:00:00</td>\n",
       "    </tr>\n",
       "    <tr>\n",
       "      <th>lat</th>\n",
       "      <td>35.3279</td>\n",
       "      <td>40.6436</td>\n",
       "    </tr>\n",
       "    <tr>\n",
       "      <th>long</th>\n",
       "      <td>21.7344</td>\n",
       "      <td>25.1434</td>\n",
       "    </tr>\n",
       "    <tr>\n",
       "      <th>pop</th>\n",
       "      <td>134219</td>\n",
       "      <td>672130</td>\n",
       "    </tr>\n",
       "    <tr>\n",
       "      <th>price</th>\n",
       "      <td>0.11</td>\n",
       "      <td>4.54</td>\n",
       "    </tr>\n",
       "    <tr>\n",
       "      <th>quantity</th>\n",
       "      <td>2953</td>\n",
       "      <td>145287</td>\n",
       "    </tr>\n",
       "  </tbody>\n",
       "</table>\n",
       "</div>"
      ],
      "text/plain": [
       "                          min                  max\n",
       "date      2012-01-31 00:00:00  2017-12-31 00:00:00\n",
       "lat                   35.3279              40.6436\n",
       "long                  21.7344              25.1434\n",
       "pop                    134219               672130\n",
       "price                    0.11                 4.54\n",
       "quantity                 2953               145287"
      ]
     },
     "execution_count": 16,
     "metadata": {},
     "output_type": "execute_result"
    }
   ],
   "source": [
    "df.agg([min, max]).T"
   ]
  },
  {
   "cell_type": "markdown",
   "metadata": {
    "colab_type": "text",
    "id": "_c8RH6RK16Ix"
   },
   "source": [
    "<font color='teal'> **Review the numeric dataset's summary statistics.**</font>"
   ]
  },
  {
   "cell_type": "code",
   "execution_count": 17,
   "metadata": {
    "colab": {},
    "colab_type": "code",
    "id": "2IKIsz8qjRK6"
   },
   "outputs": [
    {
     "data": {
      "text/html": [
       "<div>\n",
       "<style scoped>\n",
       "    .dataframe tbody tr th:only-of-type {\n",
       "        vertical-align: middle;\n",
       "    }\n",
       "\n",
       "    .dataframe tbody tr th {\n",
       "        vertical-align: top;\n",
       "    }\n",
       "\n",
       "    .dataframe thead th {\n",
       "        text-align: right;\n",
       "    }\n",
       "</style>\n",
       "<table border=\"1\" class=\"dataframe\">\n",
       "  <thead>\n",
       "    <tr style=\"text-align: right;\">\n",
       "      <th></th>\n",
       "      <th>count</th>\n",
       "      <th>mean</th>\n",
       "      <th>std</th>\n",
       "      <th>min</th>\n",
       "      <th>25%</th>\n",
       "      <th>50%</th>\n",
       "      <th>75%</th>\n",
       "      <th>max</th>\n",
       "    </tr>\n",
       "  </thead>\n",
       "  <tbody>\n",
       "    <tr>\n",
       "      <th>lat</th>\n",
       "      <td>6429.0</td>\n",
       "      <td>38.301238</td>\n",
       "      <td>1.649771</td>\n",
       "      <td>35.32787</td>\n",
       "      <td>37.96245</td>\n",
       "      <td>38.24444</td>\n",
       "      <td>39.63689</td>\n",
       "      <td>40.64361</td>\n",
       "    </tr>\n",
       "    <tr>\n",
       "      <th>long</th>\n",
       "      <td>6434.0</td>\n",
       "      <td>23.270246</td>\n",
       "      <td>1.086960</td>\n",
       "      <td>21.73444</td>\n",
       "      <td>22.41761</td>\n",
       "      <td>22.93086</td>\n",
       "      <td>23.71622</td>\n",
       "      <td>25.14341</td>\n",
       "    </tr>\n",
       "    <tr>\n",
       "      <th>pop</th>\n",
       "      <td>6480.0</td>\n",
       "      <td>355141.416667</td>\n",
       "      <td>232828.796289</td>\n",
       "      <td>134219.00000</td>\n",
       "      <td>141439.75000</td>\n",
       "      <td>257501.50000</td>\n",
       "      <td>665871.00000</td>\n",
       "      <td>672130.00000</td>\n",
       "    </tr>\n",
       "    <tr>\n",
       "      <th>price</th>\n",
       "      <td>6480.0</td>\n",
       "      <td>1.188981</td>\n",
       "      <td>0.814567</td>\n",
       "      <td>0.11000</td>\n",
       "      <td>0.61000</td>\n",
       "      <td>0.92000</td>\n",
       "      <td>1.50000</td>\n",
       "      <td>4.54000</td>\n",
       "    </tr>\n",
       "    <tr>\n",
       "      <th>quantity</th>\n",
       "      <td>6480.0</td>\n",
       "      <td>29431.855093</td>\n",
       "      <td>17901.328301</td>\n",
       "      <td>2953.00000</td>\n",
       "      <td>16441.75000</td>\n",
       "      <td>25184.00000</td>\n",
       "      <td>37866.00000</td>\n",
       "      <td>145287.00000</td>\n",
       "    </tr>\n",
       "  </tbody>\n",
       "</table>\n",
       "</div>"
      ],
      "text/plain": [
       "           count           mean            std           min           25%  \\\n",
       "lat       6429.0      38.301238       1.649771      35.32787      37.96245   \n",
       "long      6434.0      23.270246       1.086960      21.73444      22.41761   \n",
       "pop       6480.0  355141.416667  232828.796289  134219.00000  141439.75000   \n",
       "price     6480.0       1.188981       0.814567       0.11000       0.61000   \n",
       "quantity  6480.0   29431.855093   17901.328301    2953.00000   16441.75000   \n",
       "\n",
       "                   50%           75%           max  \n",
       "lat           38.24444      39.63689      40.64361  \n",
       "long          22.93086      23.71622      25.14341  \n",
       "pop       257501.50000  665871.00000  672130.00000  \n",
       "price          0.92000       1.50000       4.54000  \n",
       "quantity   25184.00000   37866.00000  145287.00000  "
      ]
     },
     "execution_count": 17,
     "metadata": {},
     "output_type": "execute_result"
    }
   ],
   "source": [
    "#To see all important information against a column in one snapshot\n",
    "df.describe().T"
   ]
  },
  {
   "cell_type": "markdown",
   "metadata": {
    "colab_type": "text",
    "id": "lSQPIPX89mC0"
   },
   "source": [
    "## Data Cleaning"
   ]
  },
  {
   "cell_type": "markdown",
   "metadata": {
    "colab_type": "text",
    "id": "ufPXh3kYL9ni"
   },
   "source": [
    "### Handle the missing and NA values\n",
    "Run the code below to print out the percent of each feature that is missing. You can see from the result of the code that there are 13 columns out of 27 missing data. Most of these are missing less than 10% of the data. You may need to adapt the code if your dataframe is named something other than df.\n",
    "\n",
    "\n",
    "*   Consider the columns individually \n",
    "*   Identify the appropriate fill method for each column\n",
    "\n"
   ]
  },
  {
   "cell_type": "code",
   "execution_count": 18,
   "metadata": {
    "colab": {},
    "colab_type": "code",
    "id": "tP876MPtg5ak"
   },
   "outputs": [
    {
     "data": {
      "text/html": [
       "<div>\n",
       "<style scoped>\n",
       "    .dataframe tbody tr th:only-of-type {\n",
       "        vertical-align: middle;\n",
       "    }\n",
       "\n",
       "    .dataframe tbody tr th {\n",
       "        vertical-align: top;\n",
       "    }\n",
       "\n",
       "    .dataframe thead th {\n",
       "        text-align: right;\n",
       "    }\n",
       "</style>\n",
       "<table border=\"1\" class=\"dataframe\">\n",
       "  <thead>\n",
       "    <tr style=\"text-align: right;\">\n",
       "      <th></th>\n",
       "      <th>percent</th>\n",
       "    </tr>\n",
       "  </thead>\n",
       "  <tbody>\n",
       "    <tr>\n",
       "      <th>lat</th>\n",
       "      <td>0.149603</td>\n",
       "    </tr>\n",
       "    <tr>\n",
       "      <th>long</th>\n",
       "      <td>0.148942</td>\n",
       "    </tr>\n",
       "    <tr>\n",
       "      <th>container</th>\n",
       "      <td>0.144974</td>\n",
       "    </tr>\n",
       "    <tr>\n",
       "      <th>capacity</th>\n",
       "      <td>0.144841</td>\n",
       "    </tr>\n",
       "    <tr>\n",
       "      <th>quantity</th>\n",
       "      <td>0.142857</td>\n",
       "    </tr>\n",
       "    <tr>\n",
       "      <th>price</th>\n",
       "      <td>0.142857</td>\n",
       "    </tr>\n",
       "    <tr>\n",
       "      <th>brand</th>\n",
       "      <td>0.142857</td>\n",
       "    </tr>\n",
       "    <tr>\n",
       "      <th>shop</th>\n",
       "      <td>0.142857</td>\n",
       "    </tr>\n",
       "    <tr>\n",
       "      <th>pop</th>\n",
       "      <td>0.142857</td>\n",
       "    </tr>\n",
       "    <tr>\n",
       "      <th>city</th>\n",
       "      <td>0.142857</td>\n",
       "    </tr>\n",
       "    <tr>\n",
       "      <th>date</th>\n",
       "      <td>0.142857</td>\n",
       "    </tr>\n",
       "  </tbody>\n",
       "</table>\n",
       "</div>"
      ],
      "text/plain": [
       "            percent\n",
       "lat        0.149603\n",
       "long       0.148942\n",
       "container  0.144974\n",
       "capacity   0.144841\n",
       "quantity   0.142857\n",
       "price      0.142857\n",
       "brand      0.142857\n",
       "shop       0.142857\n",
       "pop        0.142857\n",
       "city       0.142857\n",
       "date       0.142857"
      ]
     },
     "execution_count": 18,
     "metadata": {},
     "output_type": "execute_result"
    }
   ],
   "source": [
    "#What is Missing Value and  why to impute it and when to drop it\n",
    "nas=pd.DataFrame(df.isnull().sum().sort_values(ascending=False)/len(df),columns = ['percent'])\n",
    "pos = nas['percent'] > 0\n",
    "nas[pos]"
   ]
  },
  {
   "cell_type": "code",
   "execution_count": 19,
   "metadata": {
    "colab": {},
    "colab_type": "code",
    "id": "nE6QG0TSN3-M"
   },
   "outputs": [
    {
     "data": {
      "text/plain": [
       "(7560, 11)"
      ]
     },
     "execution_count": 19,
     "metadata": {},
     "output_type": "execute_result"
    }
   ],
   "source": [
    "df_location = df.loc[:, ['city','long','lat']]\n",
    "df.shape"
   ]
  },
  {
   "cell_type": "code",
   "execution_count": 20,
   "metadata": {},
   "outputs": [
    {
     "data": {
      "text/html": [
       "<div>\n",
       "<style scoped>\n",
       "    .dataframe tbody tr th:only-of-type {\n",
       "        vertical-align: middle;\n",
       "    }\n",
       "\n",
       "    .dataframe tbody tr th {\n",
       "        vertical-align: top;\n",
       "    }\n",
       "\n",
       "    .dataframe thead th {\n",
       "        text-align: right;\n",
       "    }\n",
       "</style>\n",
       "<table border=\"1\" class=\"dataframe\">\n",
       "  <thead>\n",
       "    <tr style=\"text-align: right;\">\n",
       "      <th></th>\n",
       "      <th>city</th>\n",
       "      <th>long</th>\n",
       "      <th>lat</th>\n",
       "    </tr>\n",
       "    <tr>\n",
       "      <th>id</th>\n",
       "      <th></th>\n",
       "      <th></th>\n",
       "      <th></th>\n",
       "    </tr>\n",
       "  </thead>\n",
       "  <tbody>\n",
       "    <tr>\n",
       "      <th>0.0</th>\n",
       "      <td>Athens</td>\n",
       "      <td>23.71622</td>\n",
       "      <td>37.97945</td>\n",
       "    </tr>\n",
       "    <tr>\n",
       "      <th>11.0</th>\n",
       "      <td>Irakleion</td>\n",
       "      <td>25.14341</td>\n",
       "      <td>35.32787</td>\n",
       "    </tr>\n",
       "    <tr>\n",
       "      <th>23.0</th>\n",
       "      <td>Patra</td>\n",
       "      <td>21.73444</td>\n",
       "      <td>38.24444</td>\n",
       "    </tr>\n",
       "    <tr>\n",
       "      <th>36.0</th>\n",
       "      <td>Thessaloniki</td>\n",
       "      <td>22.93086</td>\n",
       "      <td>40.64361</td>\n",
       "    </tr>\n",
       "    <tr>\n",
       "      <th>46.0</th>\n",
       "      <td>Athens</td>\n",
       "      <td>23.68708</td>\n",
       "      <td>37.96245</td>\n",
       "    </tr>\n",
       "    <tr>\n",
       "      <th>57.0</th>\n",
       "      <td>Larisa</td>\n",
       "      <td>22.41761</td>\n",
       "      <td>39.63689</td>\n",
       "    </tr>\n",
       "  </tbody>\n",
       "</table>\n",
       "</div>"
      ],
      "text/plain": [
       "              city      long       lat\n",
       "id                                    \n",
       "0.0         Athens  23.71622  37.97945\n",
       "11.0     Irakleion  25.14341  35.32787\n",
       "23.0         Patra  21.73444  38.24444\n",
       "36.0  Thessaloniki  22.93086  40.64361\n",
       "46.0        Athens  23.68708  37.96245\n",
       "57.0        Larisa  22.41761  39.63689"
      ]
     },
     "execution_count": 20,
     "metadata": {},
     "output_type": "execute_result"
    }
   ],
   "source": [
    "df_location.drop_duplicates().dropna()"
   ]
  },
  {
   "cell_type": "markdown",
   "metadata": {},
   "source": [
    "Here is the list of cities along with thier latitude and longitude information"
   ]
  },
  {
   "cell_type": "code",
   "execution_count": 21,
   "metadata": {},
   "outputs": [
    {
     "data": {
      "text/plain": [
       "(6480, 11)"
      ]
     },
     "execution_count": 21,
     "metadata": {},
     "output_type": "execute_result"
    }
   ],
   "source": [
    "dfna = df[df['city'].isnull() == False]\n",
    "dfna.shape"
   ]
  },
  {
   "cell_type": "markdown",
   "metadata": {},
   "source": [
    " As we know latitude and longitude refers to a location of any city so we can safely remove columns `lat` and `long`."
   ]
  },
  {
   "cell_type": "markdown",
   "metadata": {
    "colab_type": "text",
    "id": "4JX9cGoecv5W"
   },
   "source": [
    "<font color='teal'> **In the cell below, remove columns 'lat' and 'long'.**</font>\n",
    "\n"
   ]
  },
  {
   "cell_type": "code",
   "execution_count": 22,
   "metadata": {
    "colab": {},
    "colab_type": "code",
    "id": "g0wPY6L0c9Uj"
   },
   "outputs": [],
   "source": [
    "dfna = dfna.drop(['lat','long'], axis = 1)"
   ]
  },
  {
   "cell_type": "code",
   "execution_count": 23,
   "metadata": {},
   "outputs": [
    {
     "data": {
      "text/html": [
       "<div>\n",
       "<style scoped>\n",
       "    .dataframe tbody tr th:only-of-type {\n",
       "        vertical-align: middle;\n",
       "    }\n",
       "\n",
       "    .dataframe tbody tr th {\n",
       "        vertical-align: top;\n",
       "    }\n",
       "\n",
       "    .dataframe thead th {\n",
       "        text-align: right;\n",
       "    }\n",
       "</style>\n",
       "<table border=\"1\" class=\"dataframe\">\n",
       "  <thead>\n",
       "    <tr style=\"text-align: right;\">\n",
       "      <th></th>\n",
       "      <th>date</th>\n",
       "      <th>city</th>\n",
       "      <th>pop</th>\n",
       "      <th>shop</th>\n",
       "      <th>brand</th>\n",
       "      <th>container</th>\n",
       "      <th>capacity</th>\n",
       "      <th>price</th>\n",
       "      <th>quantity</th>\n",
       "    </tr>\n",
       "    <tr>\n",
       "      <th>id</th>\n",
       "      <th></th>\n",
       "      <th></th>\n",
       "      <th></th>\n",
       "      <th></th>\n",
       "      <th></th>\n",
       "      <th></th>\n",
       "      <th></th>\n",
       "      <th></th>\n",
       "      <th></th>\n",
       "    </tr>\n",
       "  </thead>\n",
       "  <tbody>\n",
       "    <tr>\n",
       "      <th>0.0</th>\n",
       "      <td>2012-01-31</td>\n",
       "      <td>Athens</td>\n",
       "      <td>672130.0</td>\n",
       "      <td>shop_1</td>\n",
       "      <td>kinder-cola</td>\n",
       "      <td>glass</td>\n",
       "      <td>500ml</td>\n",
       "      <td>0.96</td>\n",
       "      <td>13280.0</td>\n",
       "    </tr>\n",
       "    <tr>\n",
       "      <th>1.0</th>\n",
       "      <td>2012-01-31</td>\n",
       "      <td>Athens</td>\n",
       "      <td>672130.0</td>\n",
       "      <td>shop_1</td>\n",
       "      <td>kinder-cola</td>\n",
       "      <td>plastic</td>\n",
       "      <td>1.5lt</td>\n",
       "      <td>2.86</td>\n",
       "      <td>6727.0</td>\n",
       "    </tr>\n",
       "    <tr>\n",
       "      <th>2.0</th>\n",
       "      <td>2012-01-31</td>\n",
       "      <td>Athens</td>\n",
       "      <td>672130.0</td>\n",
       "      <td>shop_1</td>\n",
       "      <td>kinder-cola</td>\n",
       "      <td>can</td>\n",
       "      <td>330ml</td>\n",
       "      <td>0.87</td>\n",
       "      <td>9848.0</td>\n",
       "    </tr>\n",
       "    <tr>\n",
       "      <th>3.0</th>\n",
       "      <td>2012-01-31</td>\n",
       "      <td>Athens</td>\n",
       "      <td>672130.0</td>\n",
       "      <td>shop_1</td>\n",
       "      <td>adult-cola</td>\n",
       "      <td>glass</td>\n",
       "      <td>500ml</td>\n",
       "      <td>1.00</td>\n",
       "      <td>20050.0</td>\n",
       "    </tr>\n",
       "    <tr>\n",
       "      <th>4.0</th>\n",
       "      <td>2012-01-31</td>\n",
       "      <td>Athens</td>\n",
       "      <td>672130.0</td>\n",
       "      <td>shop_1</td>\n",
       "      <td>adult-cola</td>\n",
       "      <td>can</td>\n",
       "      <td>330ml</td>\n",
       "      <td>0.39</td>\n",
       "      <td>25696.0</td>\n",
       "    </tr>\n",
       "  </tbody>\n",
       "</table>\n",
       "</div>"
      ],
      "text/plain": [
       "          date    city       pop    shop        brand container capacity  \\\n",
       "id                                                                         \n",
       "0.0 2012-01-31  Athens  672130.0  shop_1  kinder-cola     glass    500ml   \n",
       "1.0 2012-01-31  Athens  672130.0  shop_1  kinder-cola   plastic    1.5lt   \n",
       "2.0 2012-01-31  Athens  672130.0  shop_1  kinder-cola       can    330ml   \n",
       "3.0 2012-01-31  Athens  672130.0  shop_1   adult-cola     glass    500ml   \n",
       "4.0 2012-01-31  Athens  672130.0  shop_1   adult-cola       can    330ml   \n",
       "\n",
       "     price  quantity  \n",
       "id                    \n",
       "0.0   0.96   13280.0  \n",
       "1.0   2.86    6727.0  \n",
       "2.0   0.87    9848.0  \n",
       "3.0   1.00   20050.0  \n",
       "4.0   0.39   25696.0  "
      ]
     },
     "execution_count": 23,
     "metadata": {},
     "output_type": "execute_result"
    }
   ],
   "source": [
    "dfna.head()"
   ]
  },
  {
   "cell_type": "code",
   "execution_count": 24,
   "metadata": {},
   "outputs": [
    {
     "name": "stdout",
     "output_type": "stream",
     "text": [
      "<class 'pandas.core.frame.DataFrame'>\n",
      "Float64Index: 6480 entries, 0.0 to 6479.0\n",
      "Data columns (total 9 columns):\n",
      " #   Column     Non-Null Count  Dtype         \n",
      "---  ------     --------------  -----         \n",
      " 0   date       6480 non-null   datetime64[ns]\n",
      " 1   city       6480 non-null   object        \n",
      " 2   pop        6480 non-null   float64       \n",
      " 3   shop       6480 non-null   object        \n",
      " 4   brand      6480 non-null   object        \n",
      " 5   container  6464 non-null   object        \n",
      " 6   capacity   6465 non-null   object        \n",
      " 7   price      6480 non-null   float64       \n",
      " 8   quantity   6480 non-null   float64       \n",
      "dtypes: datetime64[ns](1), float64(3), object(5)\n",
      "memory usage: 506.2+ KB\n"
     ]
    }
   ],
   "source": [
    "dfna.info()"
   ]
  },
  {
   "cell_type": "markdown",
   "metadata": {
    "colab_type": "text",
    "id": "GLO93pCZRPjZ"
   },
   "source": [
    "Columns still having Null values are - Container , capacity"
   ]
  },
  {
   "cell_type": "markdown",
   "metadata": {
    "colab_type": "text",
    "id": "n4WYxGy116JG"
   },
   "source": [
    "<font color='teal'> **Extract records having Null values for container.**</font>"
   ]
  },
  {
   "cell_type": "code",
   "execution_count": 25,
   "metadata": {},
   "outputs": [
    {
     "data": {
      "text/html": [
       "<div>\n",
       "<style scoped>\n",
       "    .dataframe tbody tr th:only-of-type {\n",
       "        vertical-align: middle;\n",
       "    }\n",
       "\n",
       "    .dataframe tbody tr th {\n",
       "        vertical-align: top;\n",
       "    }\n",
       "\n",
       "    .dataframe thead th {\n",
       "        text-align: right;\n",
       "    }\n",
       "</style>\n",
       "<table border=\"1\" class=\"dataframe\">\n",
       "  <thead>\n",
       "    <tr style=\"text-align: right;\">\n",
       "      <th></th>\n",
       "      <th>date</th>\n",
       "      <th>city</th>\n",
       "      <th>pop</th>\n",
       "      <th>shop</th>\n",
       "      <th>brand</th>\n",
       "      <th>container</th>\n",
       "      <th>capacity</th>\n",
       "      <th>price</th>\n",
       "      <th>quantity</th>\n",
       "    </tr>\n",
       "    <tr>\n",
       "      <th>id</th>\n",
       "      <th></th>\n",
       "      <th></th>\n",
       "      <th></th>\n",
       "      <th></th>\n",
       "      <th></th>\n",
       "      <th></th>\n",
       "      <th></th>\n",
       "      <th></th>\n",
       "      <th></th>\n",
       "    </tr>\n",
       "  </thead>\n",
       "  <tbody>\n",
       "    <tr>\n",
       "      <th>1553.0</th>\n",
       "      <td>2013-06-30</td>\n",
       "      <td>Patra</td>\n",
       "      <td>166301.0</td>\n",
       "      <td>shop_6</td>\n",
       "      <td>kinder-cola</td>\n",
       "      <td>glass</td>\n",
       "      <td>NaN</td>\n",
       "      <td>1.46</td>\n",
       "      <td>25634.0</td>\n",
       "    </tr>\n",
       "    <tr>\n",
       "      <th>1847.0</th>\n",
       "      <td>2013-09-30</td>\n",
       "      <td>Thessaloniki</td>\n",
       "      <td>347001.0</td>\n",
       "      <td>shop_4</td>\n",
       "      <td>gazoza</td>\n",
       "      <td>plastic</td>\n",
       "      <td>NaN</td>\n",
       "      <td>0.93</td>\n",
       "      <td>42320.0</td>\n",
       "    </tr>\n",
       "    <tr>\n",
       "      <th>2584.0</th>\n",
       "      <td>2014-05-31</td>\n",
       "      <td>Athens</td>\n",
       "      <td>668203.0</td>\n",
       "      <td>shop_3</td>\n",
       "      <td>lemon-boost</td>\n",
       "      <td>glass</td>\n",
       "      <td>NaN</td>\n",
       "      <td>0.61</td>\n",
       "      <td>27136.0</td>\n",
       "    </tr>\n",
       "    <tr>\n",
       "      <th>3040.0</th>\n",
       "      <td>2014-10-31</td>\n",
       "      <td>Larisa</td>\n",
       "      <td>140563.0</td>\n",
       "      <td>shop_5</td>\n",
       "      <td>adult-cola</td>\n",
       "      <td>can</td>\n",
       "      <td>NaN</td>\n",
       "      <td>0.69</td>\n",
       "      <td>21225.0</td>\n",
       "    </tr>\n",
       "    <tr>\n",
       "      <th>3246.0</th>\n",
       "      <td>2015-01-31</td>\n",
       "      <td>Athens</td>\n",
       "      <td>667237.0</td>\n",
       "      <td>shop_1</td>\n",
       "      <td>gazoza</td>\n",
       "      <td>glass</td>\n",
       "      <td>NaN</td>\n",
       "      <td>0.51</td>\n",
       "      <td>46809.0</td>\n",
       "    </tr>\n",
       "    <tr>\n",
       "      <th>3624.0</th>\n",
       "      <td>2015-05-31</td>\n",
       "      <td>Patra</td>\n",
       "      <td>167001.0</td>\n",
       "      <td>shop_6</td>\n",
       "      <td>adult-cola</td>\n",
       "      <td>glass</td>\n",
       "      <td>NaN</td>\n",
       "      <td>1.06</td>\n",
       "      <td>49039.0</td>\n",
       "    </tr>\n",
       "    <tr>\n",
       "      <th>4450.0</th>\n",
       "      <td>2016-02-29</td>\n",
       "      <td>Thessaloniki</td>\n",
       "      <td>351702.0</td>\n",
       "      <td>shop_4</td>\n",
       "      <td>orange-power</td>\n",
       "      <td>glass</td>\n",
       "      <td>NaN</td>\n",
       "      <td>0.70</td>\n",
       "      <td>34008.0</td>\n",
       "    </tr>\n",
       "    <tr>\n",
       "      <th>4776.0</th>\n",
       "      <td>2016-06-30</td>\n",
       "      <td>Athens</td>\n",
       "      <td>665102.0</td>\n",
       "      <td>shop_1</td>\n",
       "      <td>orange-power</td>\n",
       "      <td>plastic</td>\n",
       "      <td>NaN</td>\n",
       "      <td>1.88</td>\n",
       "      <td>26675.0</td>\n",
       "    </tr>\n",
       "    <tr>\n",
       "      <th>4812.0</th>\n",
       "      <td>2016-06-30</td>\n",
       "      <td>Thessaloniki</td>\n",
       "      <td>351702.0</td>\n",
       "      <td>shop_4</td>\n",
       "      <td>gazoza</td>\n",
       "      <td>glass</td>\n",
       "      <td>NaN</td>\n",
       "      <td>0.77</td>\n",
       "      <td>40645.0</td>\n",
       "    </tr>\n",
       "    <tr>\n",
       "      <th>4868.0</th>\n",
       "      <td>2016-07-31</td>\n",
       "      <td>Athens</td>\n",
       "      <td>665102.0</td>\n",
       "      <td>shop_1</td>\n",
       "      <td>orange-power</td>\n",
       "      <td>can</td>\n",
       "      <td>NaN</td>\n",
       "      <td>0.60</td>\n",
       "      <td>41847.0</td>\n",
       "    </tr>\n",
       "    <tr>\n",
       "      <th>5142.0</th>\n",
       "      <td>2016-10-31</td>\n",
       "      <td>Irakleion</td>\n",
       "      <td>137302.0</td>\n",
       "      <td>shop_2</td>\n",
       "      <td>kinder-cola</td>\n",
       "      <td>glass</td>\n",
       "      <td>NaN</td>\n",
       "      <td>1.20</td>\n",
       "      <td>16534.0</td>\n",
       "    </tr>\n",
       "    <tr>\n",
       "      <th>5221.0</th>\n",
       "      <td>2016-11-30</td>\n",
       "      <td>Athens</td>\n",
       "      <td>665102.0</td>\n",
       "      <td>shop_1</td>\n",
       "      <td>kinder-cola</td>\n",
       "      <td>plastic</td>\n",
       "      <td>NaN</td>\n",
       "      <td>3.08</td>\n",
       "      <td>8877.0</td>\n",
       "    </tr>\n",
       "    <tr>\n",
       "      <th>5585.0</th>\n",
       "      <td>2017-03-31</td>\n",
       "      <td>Athens</td>\n",
       "      <td>665871.0</td>\n",
       "      <td>shop_1</td>\n",
       "      <td>adult-cola</td>\n",
       "      <td>can</td>\n",
       "      <td>NaN</td>\n",
       "      <td>0.46</td>\n",
       "      <td>32284.0</td>\n",
       "    </tr>\n",
       "    <tr>\n",
       "      <th>5890.0</th>\n",
       "      <td>2017-06-30</td>\n",
       "      <td>Thessaloniki</td>\n",
       "      <td>353001.0</td>\n",
       "      <td>shop_4</td>\n",
       "      <td>lemon-boost</td>\n",
       "      <td>glass</td>\n",
       "      <td>NaN</td>\n",
       "      <td>0.93</td>\n",
       "      <td>37348.0</td>\n",
       "    </tr>\n",
       "    <tr>\n",
       "      <th>6402.0</th>\n",
       "      <td>2017-12-31</td>\n",
       "      <td>Athens</td>\n",
       "      <td>665871.0</td>\n",
       "      <td>shop_1</td>\n",
       "      <td>lemon-boost</td>\n",
       "      <td>can</td>\n",
       "      <td>NaN</td>\n",
       "      <td>0.42</td>\n",
       "      <td>31800.0</td>\n",
       "    </tr>\n",
       "  </tbody>\n",
       "</table>\n",
       "</div>"
      ],
      "text/plain": [
       "             date          city       pop    shop         brand container  \\\n",
       "id                                                                          \n",
       "1553.0 2013-06-30         Patra  166301.0  shop_6   kinder-cola     glass   \n",
       "1847.0 2013-09-30  Thessaloniki  347001.0  shop_4        gazoza   plastic   \n",
       "2584.0 2014-05-31        Athens  668203.0  shop_3   lemon-boost     glass   \n",
       "3040.0 2014-10-31        Larisa  140563.0  shop_5    adult-cola       can   \n",
       "3246.0 2015-01-31        Athens  667237.0  shop_1        gazoza     glass   \n",
       "3624.0 2015-05-31         Patra  167001.0  shop_6    adult-cola     glass   \n",
       "4450.0 2016-02-29  Thessaloniki  351702.0  shop_4  orange-power     glass   \n",
       "4776.0 2016-06-30        Athens  665102.0  shop_1  orange-power   plastic   \n",
       "4812.0 2016-06-30  Thessaloniki  351702.0  shop_4        gazoza     glass   \n",
       "4868.0 2016-07-31        Athens  665102.0  shop_1  orange-power       can   \n",
       "5142.0 2016-10-31     Irakleion  137302.0  shop_2   kinder-cola     glass   \n",
       "5221.0 2016-11-30        Athens  665102.0  shop_1   kinder-cola   plastic   \n",
       "5585.0 2017-03-31        Athens  665871.0  shop_1    adult-cola       can   \n",
       "5890.0 2017-06-30  Thessaloniki  353001.0  shop_4   lemon-boost     glass   \n",
       "6402.0 2017-12-31        Athens  665871.0  shop_1   lemon-boost       can   \n",
       "\n",
       "       capacity  price  quantity  \n",
       "id                                \n",
       "1553.0      NaN   1.46   25634.0  \n",
       "1847.0      NaN   0.93   42320.0  \n",
       "2584.0      NaN   0.61   27136.0  \n",
       "3040.0      NaN   0.69   21225.0  \n",
       "3246.0      NaN   0.51   46809.0  \n",
       "3624.0      NaN   1.06   49039.0  \n",
       "4450.0      NaN   0.70   34008.0  \n",
       "4776.0      NaN   1.88   26675.0  \n",
       "4812.0      NaN   0.77   40645.0  \n",
       "4868.0      NaN   0.60   41847.0  \n",
       "5142.0      NaN   1.20   16534.0  \n",
       "5221.0      NaN   3.08    8877.0  \n",
       "5585.0      NaN   0.46   32284.0  \n",
       "5890.0      NaN   0.93   37348.0  \n",
       "6402.0      NaN   0.42   31800.0  "
      ]
     },
     "execution_count": 25,
     "metadata": {},
     "output_type": "execute_result"
    }
   ],
   "source": [
    "dfna[dfna['capacity'].isnull()]"
   ]
  },
  {
   "cell_type": "code",
   "execution_count": 26,
   "metadata": {},
   "outputs": [
    {
     "data": {
      "text/html": [
       "<div>\n",
       "<style scoped>\n",
       "    .dataframe tbody tr th:only-of-type {\n",
       "        vertical-align: middle;\n",
       "    }\n",
       "\n",
       "    .dataframe tbody tr th {\n",
       "        vertical-align: top;\n",
       "    }\n",
       "\n",
       "    .dataframe thead th {\n",
       "        text-align: right;\n",
       "    }\n",
       "</style>\n",
       "<table border=\"1\" class=\"dataframe\">\n",
       "  <thead>\n",
       "    <tr style=\"text-align: right;\">\n",
       "      <th></th>\n",
       "      <th>brand</th>\n",
       "      <th>container</th>\n",
       "      <th>capacity</th>\n",
       "    </tr>\n",
       "    <tr>\n",
       "      <th>id</th>\n",
       "      <th></th>\n",
       "      <th></th>\n",
       "      <th></th>\n",
       "    </tr>\n",
       "  </thead>\n",
       "  <tbody>\n",
       "    <tr>\n",
       "      <th>1.0</th>\n",
       "      <td>kinder-cola</td>\n",
       "      <td>plastic</td>\n",
       "      <td>1.5lt</td>\n",
       "    </tr>\n",
       "    <tr>\n",
       "      <th>9.0</th>\n",
       "      <td>lemon-boost</td>\n",
       "      <td>plastic</td>\n",
       "      <td>1.5lt</td>\n",
       "    </tr>\n",
       "    <tr>\n",
       "      <th>18.0</th>\n",
       "      <td>gazoza</td>\n",
       "      <td>plastic</td>\n",
       "      <td>1.5lt</td>\n",
       "    </tr>\n",
       "    <tr>\n",
       "      <th>27.0</th>\n",
       "      <td>adult-cola</td>\n",
       "      <td>plastic</td>\n",
       "      <td>1.5lt</td>\n",
       "    </tr>\n",
       "    <tr>\n",
       "      <th>29.0</th>\n",
       "      <td>orange-power</td>\n",
       "      <td>plastic</td>\n",
       "      <td>1.5lt</td>\n",
       "    </tr>\n",
       "    <tr>\n",
       "      <th>2.0</th>\n",
       "      <td>kinder-cola</td>\n",
       "      <td>can</td>\n",
       "      <td>330ml</td>\n",
       "    </tr>\n",
       "    <tr>\n",
       "      <th>4.0</th>\n",
       "      <td>adult-cola</td>\n",
       "      <td>can</td>\n",
       "      <td>330ml</td>\n",
       "    </tr>\n",
       "    <tr>\n",
       "      <th>6.0</th>\n",
       "      <td>orange-power</td>\n",
       "      <td>can</td>\n",
       "      <td>330ml</td>\n",
       "    </tr>\n",
       "    <tr>\n",
       "      <th>10.0</th>\n",
       "      <td>lemon-boost</td>\n",
       "      <td>can</td>\n",
       "      <td>330ml</td>\n",
       "    </tr>\n",
       "    <tr>\n",
       "      <th>19.0</th>\n",
       "      <td>gazoza</td>\n",
       "      <td>can</td>\n",
       "      <td>330ml</td>\n",
       "    </tr>\n",
       "    <tr>\n",
       "      <th>0.0</th>\n",
       "      <td>kinder-cola</td>\n",
       "      <td>glass</td>\n",
       "      <td>500ml</td>\n",
       "    </tr>\n",
       "    <tr>\n",
       "      <th>3.0</th>\n",
       "      <td>adult-cola</td>\n",
       "      <td>glass</td>\n",
       "      <td>500ml</td>\n",
       "    </tr>\n",
       "    <tr>\n",
       "      <th>5.0</th>\n",
       "      <td>orange-power</td>\n",
       "      <td>glass</td>\n",
       "      <td>500ml</td>\n",
       "    </tr>\n",
       "    <tr>\n",
       "      <th>7.0</th>\n",
       "      <td>gazoza</td>\n",
       "      <td>glass</td>\n",
       "      <td>500ml</td>\n",
       "    </tr>\n",
       "    <tr>\n",
       "      <th>8.0</th>\n",
       "      <td>lemon-boost</td>\n",
       "      <td>glass</td>\n",
       "      <td>500ml</td>\n",
       "    </tr>\n",
       "  </tbody>\n",
       "</table>\n",
       "</div>"
      ],
      "text/plain": [
       "             brand container capacity\n",
       "id                                   \n",
       "1.0    kinder-cola   plastic    1.5lt\n",
       "9.0    lemon-boost   plastic    1.5lt\n",
       "18.0        gazoza   plastic    1.5lt\n",
       "27.0    adult-cola   plastic    1.5lt\n",
       "29.0  orange-power   plastic    1.5lt\n",
       "2.0    kinder-cola       can    330ml\n",
       "4.0     adult-cola       can    330ml\n",
       "6.0   orange-power       can    330ml\n",
       "10.0   lemon-boost       can    330ml\n",
       "19.0        gazoza       can    330ml\n",
       "0.0    kinder-cola     glass    500ml\n",
       "3.0     adult-cola     glass    500ml\n",
       "5.0   orange-power     glass    500ml\n",
       "7.0         gazoza     glass    500ml\n",
       "8.0    lemon-boost     glass    500ml"
      ]
     },
     "execution_count": 26,
     "metadata": {},
     "output_type": "execute_result"
    }
   ],
   "source": [
    "#extract information regarding container for different brand and respective capacity\n",
    "df_c2c = dfna[['brand','container','capacity']].drop_duplicates().dropna()\n",
    "df_c2c.sort_values('capacity')"
   ]
  },
  {
   "cell_type": "markdown",
   "metadata": {},
   "source": [
    "Now we get an idea about the container material w.r.t to the capacity.\n",
    "* 1.5ts --> Plastic,\n",
    "* 500 ml --> glass, \n",
    "* 330 ml --> can\n",
    "\n",
    "\n",
    "\n",
    "Fill Null values for container column according to the given format."
   ]
  },
  {
   "cell_type": "code",
   "execution_count": 27,
   "metadata": {},
   "outputs": [],
   "source": [
    "dfna['capacity'] = dfna['container'].apply(lambda x : \"1.5lt\" if x == 'plastic' else ('330ml' if x == \"can\" else '500ml'))"
   ]
  },
  {
   "cell_type": "code",
   "execution_count": 28,
   "metadata": {},
   "outputs": [],
   "source": [
    "dfna['container'] = dfna['capacity'].apply(lambda x : \"plastic\" if x == '1.5lt' else ('can' if x == \"330ml\" else 'glass'))"
   ]
  },
  {
   "cell_type": "markdown",
   "metadata": {},
   "source": [
    "CHECK IF ANY NULL VALUE STILL EXIST IN THE DATASET"
   ]
  },
  {
   "cell_type": "code",
   "execution_count": 29,
   "metadata": {},
   "outputs": [
    {
     "data": {
      "text/plain": [
       "date         0\n",
       "city         0\n",
       "pop          0\n",
       "shop         0\n",
       "brand        0\n",
       "container    0\n",
       "capacity     0\n",
       "price        0\n",
       "quantity     0\n",
       "dtype: int64"
      ]
     },
     "execution_count": 29,
     "metadata": {},
     "output_type": "execute_result"
    }
   ],
   "source": [
    "dfna.isnull().sum()"
   ]
  },
  {
   "cell_type": "markdown",
   "metadata": {
    "colab_type": "text",
    "id": "RXaBaMe916JQ"
   },
   "source": [
    "### Look for duplicate rows\n",
    "Run the code below to print out the duplicated rows.You can see there are no duplicate rows, so in this particular case there is nothing else to do related to duplicate rows. You will review duplicate or synonymous columns in Step 3 of the Guided Capstone."
   ]
  },
  {
   "cell_type": "code",
   "execution_count": 31,
   "metadata": {},
   "outputs": [
    {
     "data": {
      "text/html": [
       "<div>\n",
       "<style scoped>\n",
       "    .dataframe tbody tr th:only-of-type {\n",
       "        vertical-align: middle;\n",
       "    }\n",
       "\n",
       "    .dataframe tbody tr th {\n",
       "        vertical-align: top;\n",
       "    }\n",
       "\n",
       "    .dataframe thead th {\n",
       "        text-align: right;\n",
       "    }\n",
       "</style>\n",
       "<table border=\"1\" class=\"dataframe\">\n",
       "  <thead>\n",
       "    <tr style=\"text-align: right;\">\n",
       "      <th></th>\n",
       "      <th>date</th>\n",
       "      <th>city</th>\n",
       "      <th>pop</th>\n",
       "      <th>shop</th>\n",
       "      <th>brand</th>\n",
       "      <th>container</th>\n",
       "      <th>capacity</th>\n",
       "      <th>price</th>\n",
       "      <th>quantity</th>\n",
       "    </tr>\n",
       "    <tr>\n",
       "      <th>id</th>\n",
       "      <th></th>\n",
       "      <th></th>\n",
       "      <th></th>\n",
       "      <th></th>\n",
       "      <th></th>\n",
       "      <th></th>\n",
       "      <th></th>\n",
       "      <th></th>\n",
       "      <th></th>\n",
       "    </tr>\n",
       "  </thead>\n",
       "  <tbody>\n",
       "  </tbody>\n",
       "</table>\n",
       "</div>"
      ],
      "text/plain": [
       "Empty DataFrame\n",
       "Columns: [date, city, pop, shop, brand, container, capacity, price, quantity]\n",
       "Index: []"
      ]
     },
     "execution_count": 31,
     "metadata": {},
     "output_type": "execute_result"
    }
   ],
   "source": [
    "duplicateRowsDF = dfna[dfna.duplicated()]\n",
    "duplicateRowsDF\n"
   ]
  },
  {
   "cell_type": "markdown",
   "metadata": {
    "colab_type": "text",
    "id": "dWqT9uvWiypo"
   },
   "source": [
    "## Export data to a new csv file \n",
    "In order to bring the changes you made here into the next notebook, you need to write out the updated data frame to a new csv file."
   ]
  },
  {
   "cell_type": "markdown",
   "metadata": {
    "colab_type": "text",
    "id": "UsuerKEu16JU"
   },
   "source": [
    "<font color='teal'> **Export the processed dataframe as a csv file to the data folder you created earlier. Name this new csv file `house_data_output_step1.csv`.**</font>\n",
    "\n",
    "Hint: you can use the `to_csv()` dataframe method here. "
   ]
  },
  {
   "cell_type": "code",
   "execution_count": 30,
   "metadata": {
    "colab": {},
    "colab_type": "code",
    "id": "M4lsWjImoc3C"
   },
   "outputs": [],
   "source": [
    "dfna.to_csv('house_data_output_step1.csv')"
   ]
  },
  {
   "cell_type": "markdown",
   "metadata": {
    "colab_type": "text",
    "id": "KGMPQOFolxvs"
   },
   "source": [
    "The data transformations created in this step of the DSM are all generally steps to be applied to any data science project. However, the decisions we made about how to handle the missing and NA data are specific to the problem at hand. In the next step of the DSM and the next Guided Capstone Notebook, you'll see how all these steps prepare the data for exploratory data analysis."
   ]
  },
  {
   "cell_type": "code",
   "execution_count": null,
   "metadata": {},
   "outputs": [],
   "source": []
  }
 ],
 "metadata": {
  "colab": {
   "collapsed_sections": [],
   "name": "GuidedCapstoneStep2.ipynb",
   "provenance": [],
   "toc_visible": true
  },
  "kernelspec": {
   "display_name": "Python 3",
   "language": "python",
   "name": "python3"
  },
  "language_info": {
   "codemirror_mode": {
    "name": "ipython",
    "version": 3
   },
   "file_extension": ".py",
   "mimetype": "text/x-python",
   "name": "python",
   "nbconvert_exporter": "python",
   "pygments_lexer": "ipython3",
   "version": "3.7.6"
  },
  "toc": {
   "base_numbering": "0",
   "nav_menu": {},
   "number_sections": true,
   "sideBar": true,
   "skip_h1_title": false,
   "title_cell": "Table of Contents",
   "title_sidebar": "Contents",
   "toc_cell": true,
   "toc_position": {
    "height": "calc(100% - 180px)",
    "left": "10px",
    "top": "150px",
    "width": "288px"
   },
   "toc_section_display": true,
   "toc_window_display": true
  }
 },
 "nbformat": 4,
 "nbformat_minor": 1
}
